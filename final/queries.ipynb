{
 "cells": [
  {
   "cell_type": "code",
   "execution_count": 1,
   "metadata": {},
   "outputs": [],
   "source": [
    "import mysql.connector\n",
    "from credentials import username, password"
   ]
  },
  {
   "cell_type": "code",
   "execution_count": 11,
   "metadata": {},
   "outputs": [],
   "source": [
    "con = mysql.connector.connect(host=\"127.0.0.1\", port=3307,\n",
    "                              database=\"tolstoyphotos\",\n",
    "                              user=username, password=password)\n",
    "cur = con.cursor(dictionary=True)"
   ]
  },
  {
   "cell_type": "markdown",
   "metadata": {},
   "source": [
    "## Запросы с `SELECT` и `JOIN`\n",
    "\n",
    "Время спорта! Толстой играл в теннис, а ещё упоминал его в тексте «Анны Карениной». Найдётся ли хотя бы одна фотография с корта?"
   ]
  },
  {
   "cell_type": "code",
   "execution_count": 3,
   "metadata": {},
   "outputs": [
    {
     "data": {
      "text/plain": [
       "[{'idPhoto': 97194,\n",
       "  'idAuthor': 221,\n",
       "  'idLocation': 319,\n",
       "  'year': 1896,\n",
       "  'photoDescription': 'Слева на право: Л.Н. Толстой, М.Л. Оболенская,  и А.Л. Толстая, Н.Л. Оболенский.',\n",
       "  'idRubric': 166,\n",
       "  'rubricName': 'теннис'},\n",
       " {'idPhoto': 727,\n",
       "  'idAuthor': 0,\n",
       "  'idLocation': 319,\n",
       "  'year': 1896,\n",
       "  'photoDescription': '-1',\n",
       "  'idRubric': 166,\n",
       "  'rubricName': 'теннис'},\n",
       " {'idPhoto': 135648,\n",
       "  'idAuthor': 221,\n",
       "  'idLocation': 319,\n",
       "  'year': 1897,\n",
       "  'photoDescription': 'Слева направо: Л. Н. Толстой, Н. Л. Оболенский, Александра и Мария Толстые, С. А. Толстая, А. Б. Гольденвейзер, Т. Л. Толстая.',\n",
       "  'idRubric': 166,\n",
       "  'rubricName': 'теннис'},\n",
       " {'idPhoto': 97194,\n",
       "  'idAuthor': 221,\n",
       "  'idLocation': 319,\n",
       "  'year': 1896,\n",
       "  'photoDescription': 'Слева на право: Л.Н. Толстой, М.Л. Оболенская,  и А.Л. Толстая, Н.Л. Оболенский.',\n",
       "  'idRubric': 166,\n",
       "  'rubricName': 'теннис'},\n",
       " {'idPhoto': 135648,\n",
       "  'idAuthor': 221,\n",
       "  'idLocation': 319,\n",
       "  'year': 1897,\n",
       "  'photoDescription': 'Слева направо: Л. Н. Толстой, Н. Л. Оболенский, Александра и Мария Толстые, С. А. Толстая, А. Б. Гольденвейзер, Т. Л. Толстая.',\n",
       "  'idRubric': 166,\n",
       "  'rubricName': 'теннис'},\n",
       " {'idPhoto': 92715,\n",
       "  'idAuthor': 221,\n",
       "  'idLocation': 319,\n",
       "  'year': 1896,\n",
       "  'photoDescription': 'Татьяна и Александра Толстые играют с Сергеем Толстым и Ю.Н. Померанцевым.\\nСправа стоят и сидят Л.Н. и С.А. Толстые, С.И. Танеев, Миша Толстой и неизвестный.',\n",
       "  'idRubric': 225,\n",
       "  'rubricName': 'Л.Н.Толстой в кругу родных и знакомых, теннис'}]"
      ]
     },
     "execution_count": 3,
     "metadata": {},
     "output_type": "execute_result"
    }
   ],
   "source": [
    "cur.execute(\"\"\"\n",
    "SELECT * FROM PhotoDescriptions AS PD\n",
    "    JOIN PhotoRubrics AS PR ON PR.idPhoto=PD.idPhoto\n",
    "    JOIN Rubrics AS R ON R.idRubric=PR.idRubric\n",
    "WHERE rubricName LIKE '%теннис%'\n",
    "\"\"\")\n",
    "cur.fetchall()"
   ]
  },
  {
   "cell_type": "markdown",
   "metadata": {},
   "source": [
    "Вот одна из этих фотографий — id 92715:\n",
    "![](./data/fullsize/00092715.jpg)"
   ]
  },
  {
   "cell_type": "markdown",
   "metadata": {},
   "source": [
    "Более сложный `SELECT`, с группировкой, подсчётом и сортировкой результата: смотрим, кто из авторов был наиболее разнообразен. Разнообразие считаем по количеству рубрик, в которых есть хотя бы одна фотография этого автора."
   ]
  },
  {
   "cell_type": "code",
   "execution_count": 4,
   "metadata": {},
   "outputs": [
    {
     "data": {
      "text/plain": [
       "[{'authorName': '-1', 'rubricsCount': 5187},\n",
       " {'authorName': 'Чертков В.Г.', 'rubricsCount': 833},\n",
       " {'authorName': 'Толстая С.А. (Берс)', 'rubricsCount': 329},\n",
       " {'authorName': 'Гринберг А.Д., Живаго В.Р.', 'rubricsCount': 206},\n",
       " {'authorName': 'Кулаков П.Е.', 'rubricsCount': 203},\n",
       " {'authorName': 'Булла К.К.', 'rubricsCount': 170},\n",
       " {'authorName': 'Сергеенко П.А.', 'rubricsCount': 140},\n",
       " {'authorName': 'Толстая С.А.', 'rubricsCount': 137},\n",
       " {'authorName': 'Деньер А.И.', 'rubricsCount': 102},\n",
       " {'authorName': 'Протасевич Ф.Т.', 'rubricsCount': 69}]"
      ]
     },
     "execution_count": 4,
     "metadata": {},
     "output_type": "execute_result"
    }
   ],
   "source": [
    "cur.execute(\n",
    "\"\"\"\n",
    "SELECT \n",
    "    A.authorName,\n",
    "    COUNT(R.idRubric) AS rubricsCount\n",
    "FROM PhotoDescriptions AS PD\n",
    "    JOIN PhotoRubrics AS PR ON PR.idPhoto=PD.idPhoto\n",
    "    JOIN Rubrics AS R ON R.idRubric=PR.idRubric\n",
    "    JOIN Authors AS A ON A.idAuthor=PD.idAuthor\n",
    "GROUP BY A.idAuthor\n",
    "ORDER BY rubricsCount DESC\n",
    "LIMIT 10;\n",
    "\"\"\")\n",
    "cur.fetchall()"
   ]
  },
  {
   "cell_type": "markdown",
   "metadata": {},
   "source": [
    "## Вложенный `SELECT`\n",
    "\n",
    "Зачем отдельная таблица с локациями и таблица с локациями как из музея? Вот пример: мириады вариантов написания Ясной Поляны."
   ]
  },
  {
   "cell_type": "code",
   "execution_count": 12,
   "metadata": {},
   "outputs": [
    {
     "data": {
      "text/plain": [
       "[{'originalLocation': 'Ясная Поляна.'},\n",
       " {'originalLocation': 'Ясная Поляна'},\n",
       " {'originalLocation': 'деревня Ясная Поляна'},\n",
       " {'originalLocation': 'Усадьба Ясная Поляна'},\n",
       " {'originalLocation': 'Деревня Ясная Поляна.'},\n",
       " {'originalLocation': 'в Ясная Поляна'},\n",
       " {'originalLocation': 'Ясеая Поляна'},\n",
       " {'originalLocation': 'Ясная \\nПоляна.'},\n",
       " {'originalLocation': 'ЯснаяПоляна'},\n",
       " {'originalLocation': 'Ясная Поляна (?).'},\n",
       " {'originalLocation': 'Ясная Полана'},\n",
       " {'originalLocation': 'Овсянниково'},\n",
       " {'originalLocation': 'Ясная Поляна (?)'},\n",
       " {'originalLocation': 'Усадьба Ясная Поляна.'},\n",
       " {'originalLocation': 'Ясная Поляна ?'},\n",
       " {'originalLocation': 'Ясная Поляна?'},\n",
       " {'originalLocation': 'Ясная Поляна. (?)'},\n",
       " {'originalLocation': 'Ясная Поляна .(?)'}]"
      ]
     },
     "execution_count": 12,
     "metadata": {},
     "output_type": "execute_result"
    }
   ],
   "source": [
    "cur.execute(\"\"\"\n",
    "SELECT \n",
    "    DISTINCT(MA.originalLocation)\n",
    "FROM PhotoDescriptions AS PD\n",
    "    JOIN Locations AS L ON PD.idLocation=L.idLocation\n",
    "    JOIN MuseumAnnotations AS MA ON PD.idPhoto=MA.idPhoto\n",
    "WHERE L.idLocation IN (SELECT idLocation FROM Locations WHERE locationName='Ясная Поляна');\n",
    "\"\"\")\n",
    "cur.fetchall()"
   ]
  },
  {
   "cell_type": "markdown",
   "metadata": {},
   "source": [
    "### `SELECT` с `JOIN` и большим количеством условий\n",
    "\n",
    "Найдём все такие фотографии, которые были сделаны до смерти ЛНТ (1910), где что-нибудь написано на обороте (обычно это какие-то пожелания или подписи людей на фото) и которым приписана хоть одна рубрика, а ещё выведем пути к их полным версиям."
   ]
  },
  {
   "cell_type": "code",
   "execution_count": 13,
   "metadata": {},
   "outputs": [
    {
     "data": {
      "text/plain": [
       "[{'COUNT(PD.idPhoto)': 36}]"
      ]
     },
     "execution_count": 13,
     "metadata": {},
     "output_type": "execute_result"
    }
   ],
   "source": [
    "cur.execute(\"\"\"\n",
    "SELECT \n",
    "\tCOUNT(PD.idPhoto)\n",
    "FROM PhotoDescriptions AS PD\n",
    "\tJOIN MuseumAnnotations AS MA ON PD.idPhoto=MA.idPhoto\n",
    "\tJOIN PhotoPhysicalDescriptions AS PPD on PD.idPhoto=PPD.idPhoto\n",
    "\tJOIN Locations AS L ON L.idLocation=PD.idLocation\n",
    "\tJOIN PhotoFiles AS PF ON PD.idPhoto=PF.idPhoto\n",
    "WHERE\n",
    "\tPPD.inscription <> '-1'\n",
    "    AND PD.year < 1910\n",
    "    AND L.locationName <> 'Ясная Поляна'\n",
    "\"\"\")\n",
    "cur.fetchall()"
   ]
  },
  {
   "cell_type": "markdown",
   "metadata": {},
   "source": [
    "А вот одна из них — командная (id 67473).\n",
    "\n",
    "![](./data/fullsize/00067473.jpg)"
   ]
  },
  {
   "cell_type": "code",
   "execution_count": 9,
   "metadata": {},
   "outputs": [
    {
     "data": {
      "text/plain": [
       "True"
      ]
     },
     "execution_count": 9,
     "metadata": {},
     "output_type": "execute_result"
    }
   ],
   "source": [
    "cur.close()"
   ]
  }
 ],
 "metadata": {
  "kernelspec": {
   "display_name": "Python 3",
   "language": "python",
   "name": "python3"
  },
  "language_info": {
   "codemirror_mode": {
    "name": "ipython",
    "version": 3
   },
   "file_extension": ".py",
   "mimetype": "text/x-python",
   "name": "python",
   "nbconvert_exporter": "python",
   "pygments_lexer": "ipython3",
   "version": "3.6.8"
  }
 },
 "nbformat": 4,
 "nbformat_minor": 2
}
