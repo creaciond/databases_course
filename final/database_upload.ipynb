{
 "cells": [
  {
   "cell_type": "code",
   "execution_count": 1,
   "metadata": {},
   "outputs": [],
   "source": [
    "import mysql.connector\n",
    "import pandas as pd\n",
    "\n",
    "from credentials import username, password"
   ]
  },
  {
   "cell_type": "markdown",
   "metadata": {},
   "source": [
    "## Структура базы\n",
    "\n",
    "![](database_structure.png)"
   ]
  },
  {
   "cell_type": "markdown",
   "metadata": {},
   "source": [
    "Подключение и курсор"
   ]
  },
  {
   "cell_type": "code",
   "execution_count": 2,
   "metadata": {},
   "outputs": [],
   "source": [
    "con = mysql.connector.connect(host=\"127.0.0.1\", port=3307,\n",
    "                              database=\"tolstoyphotos\",\n",
    "                              user=username, password=password)\n",
    "cur = con.cursor()"
   ]
  },
  {
   "cell_type": "markdown",
   "metadata": {},
   "source": [
    "## Создание таблиц"
   ]
  },
  {
   "cell_type": "code",
   "execution_count": 3,
   "metadata": {},
   "outputs": [],
   "source": [
    "cur.execute(\"USE tolstoyphotos\")"
   ]
  },
  {
   "cell_type": "code",
   "execution_count": 4,
   "metadata": {},
   "outputs": [],
   "source": [
    "cur.execute(\"\"\"\n",
    "CREATE TABLE Authors (\n",
    "  idAuthor INT NOT NULL,\n",
    "  authorName VARCHAR(127),\n",
    "  PRIMARY KEY (idAuthor));\n",
    "\"\"\")"
   ]
  },
  {
   "cell_type": "code",
   "execution_count": 5,
   "metadata": {},
   "outputs": [],
   "source": [
    "cur.execute(\"\"\"\n",
    "CREATE TABLE Locations (\n",
    "  idLocation INT NOT NULL,\n",
    "  locationName VARCHAR(255),\n",
    "  PRIMARY KEY (idLocation));\n",
    "\"\"\")"
   ]
  },
  {
   "cell_type": "code",
   "execution_count": 6,
   "metadata": {},
   "outputs": [],
   "source": [
    "cur.execute(\"\"\"\n",
    "CREATE TABLE Rubrics (\n",
    "  idRubric INT NOT NULL,\n",
    "  rubricName VARCHAR(255),\n",
    "  PRIMARY KEY (idRubric)\n",
    ");\"\"\")"
   ]
  },
  {
   "cell_type": "code",
   "execution_count": 7,
   "metadata": {},
   "outputs": [],
   "source": [
    "cur.execute(\"\"\"\n",
    "CREATE TABLE PhotoDescriptions (\n",
    "  idPhoto INT NOT NULL,\n",
    "  idAuthor INT,\n",
    "  idLocation INT,\n",
    "  year INT,\n",
    "  photoDescription VARCHAR(511),\n",
    "  FOREIGN KEY (idAuthor) REFERENCES Authors(idAuthor),\n",
    "  FOREIGN KEY (idLocation) REFERENCES Locations(idLocation),\n",
    "  PRIMARY KEY (idPhoto)\n",
    ");\"\"\")"
   ]
  },
  {
   "cell_type": "code",
   "execution_count": 8,
   "metadata": {},
   "outputs": [],
   "source": [
    "cur.execute(\"\"\"\n",
    "CREATE TABLE PhotoRubrics (\n",
    "  idPhoto INT,\n",
    "  idRubric INT,\n",
    "  FOREIGN KEY (idPhoto) REFERENCES PhotoDescriptions(idPhoto),\n",
    "  FOREIGN KEY (idRubric) REFERENCES Rubrics(idRubric)\n",
    ");\"\"\")"
   ]
  },
  {
   "cell_type": "code",
   "execution_count": 9,
   "metadata": {},
   "outputs": [],
   "source": [
    "cur.execute(\"\"\"\n",
    "CREATE TABLE MuseumAnnotations (\n",
    "  idPhoto INT,\n",
    "  idIdentif VARCHAR(63),\n",
    "  idInv VARCHAR(63),\n",
    "  originalAuthor VARCHAR(127),\n",
    "  originalLocation VARCHAR(127),\n",
    "  FOREIGN KEY (idPhoto) REFERENCES PhotoDescriptions(idPhoto)\n",
    ");\"\"\")"
   ]
  },
  {
   "cell_type": "code",
   "execution_count": 10,
   "metadata": {},
   "outputs": [],
   "source": [
    "cur.execute(\"\"\"\n",
    "CREATE TABLE PhotoPhysicalDescriptions (\n",
    "  idPhoto INT,\n",
    "  width FLOAT,\n",
    "  height FLOAT,\n",
    "  inscription VARCHAR(255),\n",
    "  FOREIGN KEY (idPhoto) REFERENCES PhotoDescriptions(idPhoto)\n",
    ");\"\"\")"
   ]
  },
  {
   "cell_type": "code",
   "execution_count": 11,
   "metadata": {},
   "outputs": [],
   "source": [
    "cur.execute(\"\"\"\n",
    "CREATE TABLE PhotoFiles (\n",
    "  idPhoto INT,\n",
    "  miniatureFile VARCHAR(63),\n",
    "  fullsizeFile VARCHAR(63),\n",
    "  FOREIGN KEY (idPhoto) REFERENCES PhotoDescriptions(idPhoto)\n",
    ");\"\"\")"
   ]
  },
  {
   "cell_type": "code",
   "execution_count": 12,
   "metadata": {},
   "outputs": [],
   "source": [
    "con.commit()"
   ]
  },
  {
   "cell_type": "markdown",
   "metadata": {},
   "source": [
    "## Добавление информации в таблицы"
   ]
  },
  {
   "cell_type": "markdown",
   "metadata": {},
   "source": [
    "### Места съёмки "
   ]
  },
  {
   "cell_type": "code",
   "execution_count": 13,
   "metadata": {},
   "outputs": [
    {
     "data": {
      "text/html": [
       "<div>\n",
       "<style scoped>\n",
       "    .dataframe tbody tr th:only-of-type {\n",
       "        vertical-align: middle;\n",
       "    }\n",
       "\n",
       "    .dataframe tbody tr th {\n",
       "        vertical-align: top;\n",
       "    }\n",
       "\n",
       "    .dataframe thead th {\n",
       "        text-align: right;\n",
       "    }\n",
       "</style>\n",
       "<table border=\"1\" class=\"dataframe\">\n",
       "  <thead>\n",
       "    <tr style=\"text-align: right;\">\n",
       "      <th></th>\n",
       "      <th>idLocation</th>\n",
       "      <th>locationName</th>\n",
       "    </tr>\n",
       "  </thead>\n",
       "  <tbody>\n",
       "    <tr>\n",
       "      <td>0</td>\n",
       "      <td>0</td>\n",
       "      <td>Slovаnha</td>\n",
       "    </tr>\n",
       "    <tr>\n",
       "      <td>1</td>\n",
       "      <td>1</td>\n",
       "      <td>Тиктон-хауз. Крайстчерч Англия</td>\n",
       "    </tr>\n",
       "    <tr>\n",
       "      <td>2</td>\n",
       "      <td>2</td>\n",
       "      <td>-1</td>\n",
       "    </tr>\n",
       "    <tr>\n",
       "      <td>3</td>\n",
       "      <td>3</td>\n",
       "      <td>Gfhb;</td>\n",
       "    </tr>\n",
       "    <tr>\n",
       "      <td>4</td>\n",
       "      <td>4</td>\n",
       "      <td>Gunnes (Турция)</td>\n",
       "    </tr>\n",
       "  </tbody>\n",
       "</table>\n",
       "</div>"
      ],
      "text/plain": [
       "  idLocation                    locationName\n",
       "0          0                        Slovаnha\n",
       "1          1  Тиктон-хауз. Крайстчерч Англия\n",
       "2          2                              -1\n",
       "3          3                           Gfhb;\n",
       "4          4                 Gunnes (Турция)"
      ]
     },
     "execution_count": 13,
     "metadata": {},
     "output_type": "execute_result"
    }
   ],
   "source": [
    "df_temp = pd.read_csv(\"db_locations.tsv\", sep=\"\\t\", encoding=\"utf-8\")\n",
    "df_temp.head()"
   ]
  },
  {
   "cell_type": "code",
   "execution_count": 14,
   "metadata": {},
   "outputs": [
    {
     "name": "stdout",
     "output_type": "stream",
     "text": [
      "INSERT INTO Locations (idLocation, locationName) VALUES (Сальский округ Северо - Кавказского края., 'nan');\n"
     ]
    }
   ],
   "source": [
    "for row in df_temp.iterrows():\n",
    "    id_location = row[1]['idLocation']\n",
    "    location_name = row[1]['locationName']\n",
    "    query = f\"INSERT INTO Locations (idLocation, locationName) VALUES ({id_location}, '{location_name}');\"\n",
    "    try:\n",
    "        cur.execute(query)\n",
    "    except:\n",
    "        print(query)"
   ]
  },
  {
   "cell_type": "code",
   "execution_count": 15,
   "metadata": {},
   "outputs": [],
   "source": [
    "con.commit()"
   ]
  },
  {
   "cell_type": "markdown",
   "metadata": {},
   "source": [
    "### Авторы фотографий"
   ]
  },
  {
   "cell_type": "code",
   "execution_count": 16,
   "metadata": {},
   "outputs": [
    {
     "data": {
      "text/html": [
       "<div>\n",
       "<style scoped>\n",
       "    .dataframe tbody tr th:only-of-type {\n",
       "        vertical-align: middle;\n",
       "    }\n",
       "\n",
       "    .dataframe tbody tr th {\n",
       "        vertical-align: top;\n",
       "    }\n",
       "\n",
       "    .dataframe thead th {\n",
       "        text-align: right;\n",
       "    }\n",
       "</style>\n",
       "<table border=\"1\" class=\"dataframe\">\n",
       "  <thead>\n",
       "    <tr style=\"text-align: right;\">\n",
       "      <th></th>\n",
       "      <th>idAuthor</th>\n",
       "      <th>authorName</th>\n",
       "    </tr>\n",
       "  </thead>\n",
       "  <tbody>\n",
       "    <tr>\n",
       "      <td>0</td>\n",
       "      <td>0</td>\n",
       "      <td>-1</td>\n",
       "    </tr>\n",
       "    <tr>\n",
       "      <td>1</td>\n",
       "      <td>1</td>\n",
       "      <td>A.Dahlgren</td>\n",
       "    </tr>\n",
       "    <tr>\n",
       "      <td>2</td>\n",
       "      <td>2</td>\n",
       "      <td>A.Wilcke</td>\n",
       "    </tr>\n",
       "    <tr>\n",
       "      <td>3</td>\n",
       "      <td>3</td>\n",
       "      <td>ALBERT</td>\n",
       "    </tr>\n",
       "    <tr>\n",
       "      <td>4</td>\n",
       "      <td>4</td>\n",
       "      <td>Angerer V.</td>\n",
       "    </tr>\n",
       "  </tbody>\n",
       "</table>\n",
       "</div>"
      ],
      "text/plain": [
       "   idAuthor  authorName\n",
       "0         0          -1\n",
       "1         1  A.Dahlgren\n",
       "2         2    A.Wilcke\n",
       "3         3      ALBERT\n",
       "4         4  Angerer V."
      ]
     },
     "execution_count": 16,
     "metadata": {},
     "output_type": "execute_result"
    }
   ],
   "source": [
    "df_temp = pd.read_csv(\"db_authors.tsv\", sep=\"\\t\", encoding=\"utf-8\")\n",
    "df_temp.head()"
   ]
  },
  {
   "cell_type": "code",
   "execution_count": 17,
   "metadata": {},
   "outputs": [],
   "source": [
    "for row in df_temp.iterrows():\n",
    "    id_author = row[1]['idAuthor']\n",
    "    author_name = row[1]['authorName']\n",
    "    query = f\"INSERT INTO Authors (idAuthor, authorName) VALUES ({id_author}, '{author_name}');\"\n",
    "    try:\n",
    "        cur.execute(query)\n",
    "    except:\n",
    "        print(query)"
   ]
  },
  {
   "cell_type": "code",
   "execution_count": 18,
   "metadata": {},
   "outputs": [],
   "source": [
    "con.commit()"
   ]
  },
  {
   "cell_type": "markdown",
   "metadata": {},
   "source": [
    "### Описание фотографии"
   ]
  },
  {
   "cell_type": "code",
   "execution_count": 19,
   "metadata": {},
   "outputs": [
    {
     "data": {
      "text/html": [
       "<div>\n",
       "<style scoped>\n",
       "    .dataframe tbody tr th:only-of-type {\n",
       "        vertical-align: middle;\n",
       "    }\n",
       "\n",
       "    .dataframe tbody tr th {\n",
       "        vertical-align: top;\n",
       "    }\n",
       "\n",
       "    .dataframe thead th {\n",
       "        text-align: right;\n",
       "    }\n",
       "</style>\n",
       "<table border=\"1\" class=\"dataframe\">\n",
       "  <thead>\n",
       "    <tr style=\"text-align: right;\">\n",
       "      <th></th>\n",
       "      <th>id</th>\n",
       "      <th>AUTHOR_REFINED</th>\n",
       "      <th>GEOGR_REFINED</th>\n",
       "      <th>year</th>\n",
       "      <th>COMPNAM</th>\n",
       "    </tr>\n",
       "  </thead>\n",
       "  <tbody>\n",
       "    <tr>\n",
       "      <td>0</td>\n",
       "      <td>115964</td>\n",
       "      <td>125</td>\n",
       "      <td>319</td>\n",
       "      <td>1908</td>\n",
       "      <td>Фотография для стереоскопа</td>\n",
       "    </tr>\n",
       "    <tr>\n",
       "      <td>1</td>\n",
       "      <td>136165</td>\n",
       "      <td>64</td>\n",
       "      <td>319</td>\n",
       "      <td>1903</td>\n",
       "      <td>Увеличенный переснимок</td>\n",
       "    </tr>\n",
       "    <tr>\n",
       "      <td>2</td>\n",
       "      <td>136603</td>\n",
       "      <td>202</td>\n",
       "      <td>319</td>\n",
       "      <td>1910</td>\n",
       "      <td>-1</td>\n",
       "    </tr>\n",
       "    <tr>\n",
       "      <td>3</td>\n",
       "      <td>106918</td>\n",
       "      <td>206</td>\n",
       "      <td>348</td>\n",
       "      <td>1932</td>\n",
       "      <td>Две могилы в общей чугунной ограде. За решётко...</td>\n",
       "    </tr>\n",
       "    <tr>\n",
       "      <td>4</td>\n",
       "      <td>142182</td>\n",
       "      <td>0</td>\n",
       "      <td>2</td>\n",
       "      <td>1930</td>\n",
       "      <td>-1</td>\n",
       "    </tr>\n",
       "  </tbody>\n",
       "</table>\n",
       "</div>"
      ],
      "text/plain": [
       "       id  AUTHOR_REFINED  GEOGR_REFINED  year  \\\n",
       "0  115964             125            319  1908   \n",
       "1  136165              64            319  1903   \n",
       "2  136603             202            319  1910   \n",
       "3  106918             206            348  1932   \n",
       "4  142182               0              2  1930   \n",
       "\n",
       "                                             COMPNAM  \n",
       "0                         Фотография для стереоскопа  \n",
       "1                             Увеличенный переснимок  \n",
       "2                                                 -1  \n",
       "3  Две могилы в общей чугунной ограде. За решётко...  \n",
       "4                                                 -1  "
      ]
     },
     "execution_count": 19,
     "metadata": {},
     "output_type": "execute_result"
    }
   ],
   "source": [
    "df_temp = pd.read_csv(\"db_photo_descriptions.tsv\", sep=\"\\t\", encoding=\"utf-8\")\n",
    "df_temp.head()"
   ]
  },
  {
   "cell_type": "code",
   "execution_count": 20,
   "metadata": {},
   "outputs": [
    {
     "name": "stdout",
     "output_type": "stream",
     "text": [
      "INSERT INTO PhotoDescriptions (idPhoto, idAuthor, idLocation, year, photoDescription) VALUES (142182, 0, 2, 1930, '-1');\n",
      "INSERT INTO PhotoDescriptions (idPhoto, idAuthor, idLocation, year, photoDescription) VALUES (142196, 0, 319, 1920, '-1');\n",
      "INSERT INTO PhotoDescriptions (idPhoto, idAuthor, idLocation, year, photoDescription) VALUES (141448, 0, 319, 1920, '-1');\n",
      "INSERT INTO PhotoDescriptions (idPhoto, idAuthor, idLocation, year, photoDescription) VALUES (140024, 0, 319, 1900, '-1');\n",
      "INSERT INTO PhotoDescriptions (idPhoto, idAuthor, idLocation, year, photoDescription) VALUES (92638, 0, 319, 1906, '-1');\n",
      "INSERT INTO PhotoDescriptions (idPhoto, idAuthor, idLocation, year, photoDescription) VALUES (109197, 0, 2, 1908, '-1');\n",
      "INSERT INTO PhotoDescriptions (idPhoto, idAuthor, idLocation, year, photoDescription) VALUES (142237, 0, 319, 1930, '-1');\n",
      "INSERT INTO PhotoDescriptions (idPhoto, idAuthor, idLocation, year, photoDescription) VALUES (109034, 70, 319, 1908, '-1');\n",
      "INSERT INTO PhotoDescriptions (idPhoto, idAuthor, idLocation, year, photoDescription) VALUES (140144, 0, 319, 1900, '-1');\n",
      "INSERT INTO PhotoDescriptions (idPhoto, idAuthor, idLocation, year, photoDescription) VALUES (92764, 0, 162, 1924, '-1');\n",
      "INSERT INTO PhotoDescriptions (idPhoto, idAuthor, idLocation, year, photoDescription) VALUES (140150, 0, 319, 1900, '-1');\n",
      "INSERT INTO PhotoDescriptions (idPhoto, idAuthor, idLocation, year, photoDescription) VALUES (140151, 0, 319, 1900, '-1');\n",
      "INSERT INTO PhotoDescriptions (idPhoto, idAuthor, idLocation, year, photoDescription) VALUES (92765, 0, 162, 1923, 'В том числе (слева направо) во 2-м ряду: М. Хорош, П.Н. Бирюкова, Т.Л. Сухотина, С.А. Стахович, А.Б. Гольденвейзер, И.И. Горбунов-Посадов, В.Ф. Булгаков, доктор Мадэ, П.И. Бирюков, Н.Н. Гусев, С.Д. Внуков, В.И. Алексеева (Лукьянская); в 3-м ряду: К.С. Шохор-Троцкий, Е.В. Булгакова, А.В. Булгакова…, В.А. Жданов (7-й слева), С.М. Булыгин, Н.Н. Апостолов, Н.С. Родионов, В.Г. Чертков, В.В. Чертков…, В.Д. Гусева (2-я справа), Вен. Ф. Булгаков.');\n",
      "INSERT INTO PhotoDescriptions (idPhoto, idAuthor, idLocation, year, photoDescription) VALUES (140145, 0, 319, 1900, '-1');\n",
      "INSERT INTO PhotoDescriptions (idPhoto, idAuthor, idLocation, year, photoDescription) VALUES (142034, 0, 319, 1903, '-1');\n",
      "INSERT INTO PhotoDescriptions (idPhoto, idAuthor, idLocation, year, photoDescription) VALUES (139337, 222, 319, 1904, '-1');\n",
      "INSERT INTO PhotoDescriptions (idPhoto, idAuthor, idLocation, year, photoDescription) VALUES (47428, 0, 319, 1917, '-1');\n",
      "INSERT INTO PhotoDescriptions (idPhoto, idAuthor, idLocation, year, photoDescription) VALUES (142236, 0, 8, 1920, '-1');\n",
      "INSERT INTO PhotoDescriptions (idPhoto, idAuthor, idLocation, year, photoDescription) VALUES (89769, 222, 128, 1902, 'Слева направо стоят: Д.В. Никитин, С.Л. Толстой, Ю.И. Игумнова, К.Х. Классен; сидят: К.В. Волков, Л.Н. и С.А. Толстые, П.А. Буланже');\n",
      "INSERT INTO PhotoDescriptions (idPhoto, idAuthor, idLocation, year, photoDescription) VALUES (142168, 0, 319, 1920, '-1');\n",
      "INSERT INTO PhotoDescriptions (idPhoto, idAuthor, idLocation, year, photoDescription) VALUES (133949, 222, 319, 1899, 'Слева направо стоят: Александра Толстая, А. Л. и О. К. Толстые, Е. Н. Малютин, А. Д. Дьяков, Л. А. Бобринский, Н. Н. Ге – сын, Ю. И. Игумнова, С. Л. Толстой, Д. Д. Дьяков, А. Д. Архангельский; сидят: Мар. А. Стахович, С. А. и Л. Н. Толстые, С. А. Стахович, А. Б. Гольденвейзер; на земле: М. А. Маклакова, Т. Л. Толстая и М. Л. Толстой, М. К. Дитерихс.');\n",
      "INSERT INTO PhotoDescriptions (idPhoto, idAuthor, idLocation, year, photoDescription) VALUES (141449, 0, 319, 1920, 'Переснимок с фотографии фирмы «Шерер, Набгольц и К°\" 1910 года.');\n",
      "INSERT INTO PhotoDescriptions (idPhoto, idAuthor, idLocation, year, photoDescription) VALUES (136172, 0, 319, 1884, '-1');\n",
      "INSERT INTO PhotoDescriptions (idPhoto, idAuthor, idLocation, year, photoDescription) VALUES (142181, 0, 319, 1930, '-1');\n",
      "INSERT INTO PhotoDescriptions (idPhoto, idAuthor, idLocation, year, photoDescription) VALUES (140033, 0, 319, 1900, '-1');\n",
      "INSERT INTO PhotoDescriptions (idPhoto, idAuthor, idLocation, year, photoDescription) VALUES (135484, 216, 191, 1903, '-1');\n",
      "INSERT INTO PhotoDescriptions (idPhoto, idAuthor, idLocation, year, photoDescription) VALUES (43710, 161, 319, 1901, '-1');\n",
      "INSERT INTO PhotoDescriptions (idPhoto, idAuthor, idLocation, year, photoDescription) VALUES (137898, 222, 319, 1910, '-1');\n",
      "INSERT INTO PhotoDescriptions (idPhoto, idAuthor, idLocation, year, photoDescription) VALUES (130649, 222, 129, 1901, '-1');\n",
      "INSERT INTO PhotoDescriptions (idPhoto, idAuthor, idLocation, year, photoDescription) VALUES (97435, 213, 319, 1909, '-1');\n",
      "INSERT INTO PhotoDescriptions (idPhoto, idAuthor, idLocation, year, photoDescription) VALUES (114264, 0, 109, 1920, 'На 1-ом плане поля (слева вспаханная часть). На 2-ом плане кирпичный завод и дома, за ними фруктовые сады и пологие горы.');\n",
      "INSERT INTO PhotoDescriptions (idPhoto, idAuthor, idLocation, year, photoDescription) VALUES (141259, 0, 305, 1926, '-1');\n",
      "INSERT INTO PhotoDescriptions (idPhoto, idAuthor, idLocation, year, photoDescription) VALUES (114271, 0, 109, 1920, 'На 1-ом плане заросли малины; на 2-ом - справа жилой дом, баня, конюшня, фруктовый склад и бочка для запаса воды.');\n",
      "INSERT INTO PhotoDescriptions (idPhoto, idAuthor, idLocation, year, photoDescription) VALUES (140813, 186, 319, 1903, 'Слева направо в 1-м ряду: Д.В. Никитин, М.М. Сухотин, М.Л. Толстой с Онисимом Денисенко, И.Л. Толстой, А.Л. Толстой, А.А. Берс; во 2-м ряду: В.И. Сидоркова, Е.С. Денисенко, О.К. Толстая с дочерью Соней Толстая, С.А. и  Л.Н. Толстые, М.Л. Оболенская, Д.Ф. Толстая, С.Т. Семенов; в 3- ряду: Ю.И. Игумнова, Н.Л. Оболенский, В.А. Кузминская, П.А. Буланже, А.Б. Гольденвейзер, И.И. Горбунов-Посадов, К.В. Орлов, Л.Л. Толстой, С.Л. Толстой, А.Л. Толстая, Т.Л. Сухотина, П.А. Сергеенко, А.И. Толстая.');\n",
      "INSERT INTO PhotoDescriptions (idPhoto, idAuthor, idLocation, year, photoDescription) VALUES (109036, 70, 319, 1908, '-1');\n",
      "INSERT INTO PhotoDescriptions (idPhoto, idAuthor, idLocation, year, photoDescription) VALUES (137912, 222, 319, 1899, '-1');\n",
      "INSERT INTO PhotoDescriptions (idPhoto, idAuthor, idLocation, year, photoDescription) VALUES (109195, 0, 2, 1908, '-1');\n",
      "INSERT INTO PhotoDescriptions (idPhoto, idAuthor, idLocation, year, photoDescription) VALUES (136198, 0, 319, 1910, '-1');\n",
      "INSERT INTO PhotoDescriptions (idPhoto, idAuthor, idLocation, year, photoDescription) VALUES (99753, 216, 319, 1905, '-1');\n",
      "INSERT INTO PhotoDescriptions (idPhoto, idAuthor, idLocation, year, photoDescription) VALUES (140032, 0, 319, 1900, '-1');\n",
      "INSERT INTO PhotoDescriptions (idPhoto, idAuthor, idLocation, year, photoDescription) VALUES (140026, 0, 319, 1900, '-1');\n",
      "INSERT INTO PhotoDescriptions (idPhoto, idAuthor, idLocation, year, photoDescription) VALUES (140740, 0, 2, -1, 'Фото двух силуэтов');\n",
      "INSERT INTO PhotoDescriptions (idPhoto, idAuthor, idLocation, year, photoDescription) VALUES (137537, 0, 319, 1908, '-1');\n",
      "INSERT INTO PhotoDescriptions (idPhoto, idAuthor, idLocation, year, photoDescription) VALUES (142180, 0, 319, 1930, '-1');\n",
      "INSERT INTO PhotoDescriptions (idPhoto, idAuthor, idLocation, year, photoDescription) VALUES (142194, 0, 319, 1930, '-1');\n",
      "INSERT INTO PhotoDescriptions (idPhoto, idAuthor, idLocation, year, photoDescription) VALUES (93291, 0, 319, 1916, '-1');\n",
      "INSERT INTO PhotoDescriptions (idPhoto, idAuthor, idLocation, year, photoDescription) VALUES (140022, 0, 319, 1900, '-1');\n",
      "INSERT INTO PhotoDescriptions (idPhoto, idAuthor, idLocation, year, photoDescription) VALUES (140036, 0, 319, 1900, '-1');\n",
      "INSERT INTO PhotoDescriptions (idPhoto, idAuthor, idLocation, year, photoDescription) VALUES (46686, 216, 319, 1903, '-1');\n",
      "INSERT INTO PhotoDescriptions (idPhoto, idAuthor, idLocation, year, photoDescription) VALUES (140591, 0, 168, 1916, 'Слева направо стоят у стены: М.И. Хорош, братья Радины, В.А. Молочников, В.Г. Чертков, М.С. Дудченко, А.В. Молочников, неизвестный, А.Е. Никитин-Хованский. Сидят: М.С. Радина, И.М. Трегубов, Д.П. Маковицкий, А.К. Черткова, А.А. Радин (отец), С.М. Попов, неизвестный, Я.Л. Демихович. Сидят на полу: К.Д. Платонова, В.С. Ляпунова, неизвестный.');\n",
      "INSERT INTO PhotoDescriptions (idPhoto, idAuthor, idLocation, year, photoDescription) VALUES (128771, 222, 319, 1908, '-1');\n",
      "INSERT INTO PhotoDescriptions (idPhoto, idAuthor, idLocation, year, photoDescription) VALUES (139330, 222, 319, 1903, 'Справа, у крыльца стоит Л.Л. Толстой.');\n",
      "INSERT INTO PhotoDescriptions (idPhoto, idAuthor, idLocation, year, photoDescription) VALUES (141260, 0, 210, 1900, '-1');\n",
      "INSERT INTO PhotoDescriptions (idPhoto, idAuthor, idLocation, year, photoDescription) VALUES (142027, 0, 319, 1910, '-1');\n",
      "INSERT INTO PhotoDescriptions (idPhoto, idAuthor, idLocation, year, photoDescription) VALUES (114261, 0, 109, 1924, 'На берегу реки дома, фруктовые сады. На 1-ом плане элеватор, фабрика варенья, склады торговые и дом П.В.Веригина (с открытой террасой). На 2-ом плане пологие горы.');\n"
     ]
    },
    {
     "name": "stdout",
     "output_type": "stream",
     "text": [
      "INSERT INTO PhotoDescriptions (idPhoto, idAuthor, idLocation, year, photoDescription) VALUES (92762, 0, 319, 1922, '-1');\n",
      "INSERT INTO PhotoDescriptions (idPhoto, idAuthor, idLocation, year, photoDescription) VALUES (140156, 200, 319, 1903, '-1');\n",
      "INSERT INTO PhotoDescriptions (idPhoto, idAuthor, idLocation, year, photoDescription) VALUES (142033, 0, 319, 1900, '-1');\n",
      "INSERT INTO PhotoDescriptions (idPhoto, idAuthor, idLocation, year, photoDescription) VALUES (92777, 216, 128, 1902, '-1');\n",
      "INSERT INTO PhotoDescriptions (idPhoto, idAuthor, idLocation, year, photoDescription) VALUES (140143, 0, 319, 1900, '-1');\n",
      "INSERT INTO PhotoDescriptions (idPhoto, idAuthor, idLocation, year, photoDescription) VALUES (140157, 0, 319, 1900, '-1');\n",
      "INSERT INTO PhotoDescriptions (idPhoto, idAuthor, idLocation, year, photoDescription) VALUES (139331, 222, 319, 1903, 'Профиль влево, в светлой блузе.');\n",
      "INSERT INTO PhotoDescriptions (idPhoto, idAuthor, idLocation, year, photoDescription) VALUES (92561, 0, 319, 1918, '-1');\n",
      "INSERT INTO PhotoDescriptions (idPhoto, idAuthor, idLocation, year, photoDescription) VALUES (43714, 161, 319, 1901, '-1');\n",
      "INSERT INTO PhotoDescriptions (idPhoto, idAuthor, idLocation, year, photoDescription) VALUES (122467, 0, 319, 1916, '-1');\n",
      "INSERT INTO PhotoDescriptions (idPhoto, idAuthor, idLocation, year, photoDescription) VALUES (140037, 0, 319, 1900, 'Л.Н.Толстой спиной, идет по лугу с палкой в правой руке и простыней в левой. На заднем плане - Т.А.Кузминская (справа), С.А.Толстая и А.Л.Толстая');\n",
      "INSERT INTO PhotoDescriptions (idPhoto, idAuthor, idLocation, year, photoDescription) VALUES (93292, 0, 271, 1923, '-1');\n",
      "INSERT INTO PhotoDescriptions (idPhoto, idAuthor, idLocation, year, photoDescription) VALUES (142193, 0, 319, 1930, '-1');\n",
      "INSERT INTO PhotoDescriptions (idPhoto, idAuthor, idLocation, year, photoDescription) VALUES (102992, 0, 2, 1915, '-1');\n",
      "INSERT INTO PhotoDescriptions (idPhoto, idAuthor, idLocation, year, photoDescription) VALUES (92577, 0, 162, -1, '-1');\n",
      "INSERT INTO PhotoDescriptions (idPhoto, idAuthor, idLocation, year, photoDescription) VALUES (92563, 0, 163, 1914, 'Табличку с № поезда держит в руках санитар Эмилио Феррарис');\n",
      "INSERT INTO PhotoDescriptions (idPhoto, idAuthor, idLocation, year, photoDescription) VALUES (97194, 222, 319, 1896, 'Слева на право: Л.Н. Толстой, М.Л. Оболенская,  и А.Л. Толстая, Н.Л. Оболенский.');\n",
      "INSERT INTO PhotoDescriptions (idPhoto, idAuthor, idLocation, year, photoDescription) VALUES (139333, 222, 319, 1903, 'Профиль вправо, в светлой блузе.');\n",
      "INSERT INTO PhotoDescriptions (idPhoto, idAuthor, idLocation, year, photoDescription) VALUES (111332, 222, 319, 1903, '-1');\n",
      "INSERT INTO PhotoDescriptions (idPhoto, idAuthor, idLocation, year, photoDescription) VALUES (142024, 0, 319, 1910, '-1');\n",
      "INSERT INTO PhotoDescriptions (idPhoto, idAuthor, idLocation, year, photoDescription) VALUES (114262, 0, 109, 1924, 'На огромной поляне по обе стороны от столика с фруктами и цветами (в центре) стоят и сидят группы мужчин и мальчиков (слева), женщин и девочек (справа). Около стола стоит П.В.Веригин.');\n",
      "INSERT INTO PhotoDescriptions (idPhoto, idAuthor, idLocation, year, photoDescription) VALUES (142031, 0, 319, 1903, '-1');\n",
      "INSERT INTO PhotoDescriptions (idPhoto, idAuthor, idLocation, year, photoDescription) VALUES (92774, 161, 319, 1901, '-1');\n",
      "INSERT INTO PhotoDescriptions (idPhoto, idAuthor, idLocation, year, photoDescription) VALUES (142019, 0, 2, 1900, '-1');\n",
      "INSERT INTO PhotoDescriptions (idPhoto, idAuthor, idLocation, year, photoDescription) VALUES (139326, 222, 319, 1903, '-1');\n",
      "INSERT INTO PhotoDescriptions (idPhoto, idAuthor, idLocation, year, photoDescription) VALUES (92562, 0, 309, 1915, '-1');\n",
      "INSERT INTO PhotoDescriptions (idPhoto, idAuthor, idLocation, year, photoDescription) VALUES (126979, 0, 60, 1902, '-1');\n",
      "INSERT INTO PhotoDescriptions (idPhoto, idAuthor, idLocation, year, photoDescription) VALUES (130699, 0, 319, 1908, '-1');\n",
      "INSERT INTO PhotoDescriptions (idPhoto, idAuthor, idLocation, year, photoDescription) VALUES (99741, 216, 319, 1903, '-1');\n",
      "INSERT INTO PhotoDescriptions (idPhoto, idAuthor, idLocation, year, photoDescription) VALUES (141458, 0, 319, 1910, '-1');\n",
      "INSERT INTO PhotoDescriptions (idPhoto, idAuthor, idLocation, year, photoDescription) VALUES (136674, 0, 319, 1921, '-1');\n",
      "INSERT INTO PhotoDescriptions (idPhoto, idAuthor, idLocation, year, photoDescription) VALUES (106947, 0, 340, 1902, 'У деревянной ограды на могиле каменная плита с выбитым текстом завещания потомству Бондарева, справа стоит плита с выбитым текстом - выдержками из сочинений Бондарева. Перед плитой деревянный стол с выдвижным ящиком для хранения рукописей Бондарева. Кое-где лежит снег.');\n",
      "INSERT INTO PhotoDescriptions (idPhoto, idAuthor, idLocation, year, photoDescription) VALUES (142122, 0, 319, 1936, '-1');\n",
      "INSERT INTO PhotoDescriptions (idPhoto, idAuthor, idLocation, year, photoDescription) VALUES (97284, 212, 319, 1909, '-1');\n",
      "INSERT INTO PhotoDescriptions (idPhoto, idAuthor, idLocation, year, photoDescription) VALUES (142254, 0, 2, 1920, '-1');\n",
      "INSERT INTO PhotoDescriptions (idPhoto, idAuthor, idLocation, year, photoDescription) VALUES (141985, 0, 2, 1900, 'Справа неизвестная девочка.');\n",
      "INSERT INTO PhotoDescriptions (idPhoto, idAuthor, idLocation, year, photoDescription) VALUES (141991, 0, 2, 1900, '-1');\n",
      "INSERT INTO PhotoDescriptions (idPhoto, idAuthor, idLocation, year, photoDescription) VALUES (142095, 0, 319, 1930, '-1');\n",
      "INSERT INTO PhotoDescriptions (idPhoto, idAuthor, idLocation, year, photoDescription) VALUES (264, 222, 319, 1908, '-1');\n",
      "INSERT INTO PhotoDescriptions (idPhoto, idAuthor, idLocation, year, photoDescription) VALUES (142057, 0, 2, 1910, '-1');\n",
      "INSERT INTO PhotoDescriptions (idPhoto, idAuthor, idLocation, year, photoDescription) VALUES (110922, 70, 319, 1908, '-1');\n",
      "INSERT INTO PhotoDescriptions (idPhoto, idAuthor, idLocation, year, photoDescription) VALUES (142094, 0, 319, 1930, '-1');\n",
      "INSERT INTO PhotoDescriptions (idPhoto, idAuthor, idLocation, year, photoDescription) VALUES (142241, 0, 319, 1930, '-1');\n",
      "INSERT INTO PhotoDescriptions (idPhoto, idAuthor, idLocation, year, photoDescription) VALUES (139181, 222, 319, 1903, 'Слева направо сидят на земле: Д.В. Никитин, М.М. Сухотин, М.Л. Толстой, О.И. Денисенко, И.Л. Толстой, А.Л. Толстой, А.А. Берс. Во 2-м ряду: В.И. Сидоркова, Е.С. Денисенко, О.К. Толстая с дочерью Соней, С.А. Толстая, Л.Н. Толстой, М.Л. Оболенская, Д.Ф. Толстая, С.Т. Семёнов. Стоят: Ю.И. Игумнова, Н.Л. Оболенский, В.А. Кузминская, П.А. Буланже, А.Б. Гольденвейзер, И.И. Горбунов-Посадов, В. Орлов, Л.Л. Толстой, С.Л. Толстой, А.Л. Толстая, П.А. Сергеенко, Т.Л. Толстая, А.И. Толстая.');\n",
      "INSERT INTO PhotoDescriptions (idPhoto, idAuthor, idLocation, year, photoDescription) VALUES (141984, 0, 2, 1900, '-1');\n",
      "INSERT INTO PhotoDescriptions (idPhoto, idAuthor, idLocation, year, photoDescription) VALUES (142255, 0, 2, 1920, '-1');\n",
      "INSERT INTO PhotoDescriptions (idPhoto, idAuthor, idLocation, year, photoDescription) VALUES (109687, 128, 234, 1856, '-1');\n",
      "INSERT INTO PhotoDescriptions (idPhoto, idAuthor, idLocation, year, photoDescription) VALUES (111221, 0, 162, 1905, 'Внизу на картоне дарственная надписьВ.Г.Черткову и росписи портретируемых.');\n",
      "INSERT INTO PhotoDescriptions (idPhoto, idAuthor, idLocation, year, photoDescription) VALUES (142123, 0, 319, 1930, '-1');\n",
      "INSERT INTO PhotoDescriptions (idPhoto, idAuthor, idLocation, year, photoDescription) VALUES (140044, 0, 319, 1902, 'Сидят на диване в зале яснополянского дома, Л.Н. в халате');\n",
      "INSERT INTO PhotoDescriptions (idPhoto, idAuthor, idLocation, year, photoDescription) VALUES (99731, 222, 166, 1898, 'Рядом с Толстым дети артельщика М. Н. Румянцева – Илья и Николай.');\n",
      "INSERT INTO PhotoDescriptions (idPhoto, idAuthor, idLocation, year, photoDescription) VALUES (142121, 0, 319, -1, '-1');\n",
      "INSERT INTO PhotoDescriptions (idPhoto, idAuthor, idLocation, year, photoDescription) VALUES (97278, 241, 319, 1909, '-1');\n",
      "INSERT INTO PhotoDescriptions (idPhoto, idAuthor, idLocation, year, photoDescription) VALUES (107643, 70, 319, 1908, '-1');\n",
      "INSERT INTO PhotoDescriptions (idPhoto, idAuthor, idLocation, year, photoDescription) VALUES (141979, 0, 319, 1901, '-1');\n",
      "INSERT INTO PhotoDescriptions (idPhoto, idAuthor, idLocation, year, photoDescription) VALUES (142257, 0, 2, 1920, '-1');\n",
      "INSERT INTO PhotoDescriptions (idPhoto, idAuthor, idLocation, year, photoDescription) VALUES (141986, 0, 2, 1900, 'Раскрашенная фотография.');\n",
      "INSERT INTO PhotoDescriptions (idPhoto, idAuthor, idLocation, year, photoDescription) VALUES (139183, 222, 319, 1903, 'Слева Т.Л. Толстая, О.К. Толстая с дочерью Соней и И.И. Горбунов-Посадов.');\n",
      "INSERT INTO PhotoDescriptions (idPhoto, idAuthor, idLocation, year, photoDescription) VALUES (142096, 0, 319, 1930, '-1');\n",
      "INSERT INTO PhotoDescriptions (idPhoto, idAuthor, idLocation, year, photoDescription) VALUES (110920, 70, 319, 1908, '-1');\n",
      "INSERT INTO PhotoDescriptions (idPhoto, idAuthor, idLocation, year, photoDescription) VALUES (142069, 154, 319, 1903, '-1');\n",
      "INSERT INTO PhotoDescriptions (idPhoto, idAuthor, idLocation, year, photoDescription) VALUES (110921, 70, 319, 1908, '-1');\n",
      "INSERT INTO PhotoDescriptions (idPhoto, idAuthor, idLocation, year, photoDescription) VALUES (142097, 0, 319, 1930, '-1');\n",
      "INSERT INTO PhotoDescriptions (idPhoto, idAuthor, idLocation, year, photoDescription) VALUES (142256, 0, 2, 1920, '-1');\n"
     ]
    },
    {
     "name": "stdout",
     "output_type": "stream",
     "text": [
      "INSERT INTO PhotoDescriptions (idPhoto, idAuthor, idLocation, year, photoDescription) VALUES (142242, 0, 2, 1930, '-1');\n",
      "INSERT INTO PhotoDescriptions (idPhoto, idAuthor, idLocation, year, photoDescription) VALUES (141978, 0, 319, 1901, 'Стоят  на площадке около крыльца.');\n",
      "INSERT INTO PhotoDescriptions (idPhoto, idAuthor, idLocation, year, photoDescription) VALUES (139169, 222, 319, 1909, '-1');\n",
      "INSERT INTO PhotoDescriptions (idPhoto, idAuthor, idLocation, year, photoDescription) VALUES (97292, 241, 351, 1910, '-1');\n",
      "INSERT INTO PhotoDescriptions (idPhoto, idAuthor, idLocation, year, photoDescription) VALUES (142120, 0, 319, -1, '-1');\n",
      "INSERT INTO PhotoDescriptions (idPhoto, idAuthor, idLocation, year, photoDescription) VALUES (140045, 0, 319, 1902, 'Сидят на диване у круглого стола в зале яснополянского дома');\n",
      "INSERT INTO PhotoDescriptions (idPhoto, idAuthor, idLocation, year, photoDescription) VALUES (106945, 0, 340, 1900, 'На первом плане ограда из горизонтальных в четыре яруса брёвен, скреплённых 10-ю столбами с завершениями в виде усечённых конусов. Внутри ограды тонкоствольные деревца с голыми ветками. Вокруг ограды лежат в беспорядке брёвна, жерди. Кое-где лежит снег.');\n",
      "INSERT INTO PhotoDescriptions (idPhoto, idAuthor, idLocation, year, photoDescription) VALUES (23243, 241, 319, 1907, '-1');\n",
      "INSERT INTO PhotoDescriptions (idPhoto, idAuthor, idLocation, year, photoDescription) VALUES (142130, 0, 319, 1930, '-1');\n",
      "INSERT INTO PhotoDescriptions (idPhoto, idAuthor, idLocation, year, photoDescription) VALUES (142124, 0, 319, 1920, '-1');\n",
      "INSERT INTO PhotoDescriptions (idPhoto, idAuthor, idLocation, year, photoDescription) VALUES (141983, 0, 319, 1901, '-1');\n",
      "INSERT INTO PhotoDescriptions (idPhoto, idAuthor, idLocation, year, photoDescription) VALUES (48233, 209, 319, 1887, 'Слева направо: Л. Н. Толстой, М. А. Стахович, Т. Л. Толстая, М. А. Кузминская, М. Л. Толстая, С. Л. Толстой, С. А. Толстая. На ширме сидят Андрей и Михаил Толстые.');\n",
      "INSERT INTO PhotoDescriptions (idPhoto, idAuthor, idLocation, year, photoDescription) VALUES (92729, 222, 128, 1902, '-1');\n",
      "INSERT INTO PhotoDescriptions (idPhoto, idAuthor, idLocation, year, photoDescription) VALUES (142050, 0, 2, 1900, '-1');\n",
      "INSERT INTO PhotoDescriptions (idPhoto, idAuthor, idLocation, year, photoDescription) VALUES (134879, 222, 166, 1898, 'Слева направо: С.А. и Л.Н. Толстые, Д.А. Олсуфьев и П. С. Усов (позади них), П. П. Трубецкой, П. А. Сергеенко (сзади), В. В. Голицын (стоит), Н. С. Лопухин, Л.М. Сухотин (стоит), М.А. Маклакова, С.Э. Дмитриева-Мамонова, А.Л. Толстая (стоит), М.С. Сухотин, П.И. Раевский, сёстры В.Ф. и Е.Ф. Соллогуб.');\n",
      "INSERT INTO PhotoDescriptions (idPhoto, idAuthor, idLocation, year, photoDescription) VALUES (41564, 0, 13, 1901, '-1');\n",
      "INSERT INTO PhotoDescriptions (idPhoto, idAuthor, idLocation, year, photoDescription) VALUES (142092, 0, 319, 1930, '-1');\n",
      "INSERT INTO PhotoDescriptions (idPhoto, idAuthor, idLocation, year, photoDescription) VALUES (136049, 0, 2, 1860, 'Фотография с даггеротипа (к. 1840-х г.г.?)');\n",
      "INSERT INTO PhotoDescriptions (idPhoto, idAuthor, idLocation, year, photoDescription) VALUES (134886, 222, 319, 1899, 'Слева направо: А.Л. Вельш, О.К. Толстая, Дж. Мэвор, Л.Н. Толстой, М.Н. Толстая, С.А. Толстая, Ш. Саломон, Н.Н. Ге-сын, Т.Л. Толстая, Александра Толстая.');\n",
      "INSERT INTO PhotoDescriptions (idPhoto, idAuthor, idLocation, year, photoDescription) VALUES (141982, 0, 319, 1901, 'Справа няня с Сонечкой (Андреевной) на руках.');\n",
      "INSERT INTO PhotoDescriptions (idPhoto, idAuthor, idLocation, year, photoDescription) VALUES (706, 222, 319, 1910, 'На обороте автограф С.А. Толстой \"23 сентября 1910 г. Не удержать!\"');\n",
      "INSERT INTO PhotoDescriptions (idPhoto, idAuthor, idLocation, year, photoDescription) VALUES (137747, 222, 319, 1906, '-1');\n",
      "INSERT INTO PhotoDescriptions (idPhoto, idAuthor, idLocation, year, photoDescription) VALUES (100699, 222, 166, 1898, 'Слева направо: С. А. и Л. Н. Толстые, Д. А. Олсуфьев и П. С. Усов (позади них), П. П. Трубецкой, П. А. Сергеенко (сзади), В. В. Голицын (стоит), Н. С. Лопухин, Л. М. Сухотин (стоит), М. А. Маклакова, С. Э. Дмитриева-Мамонова, А. Л. Толстая (стоит), М. С. Сухотин, П. И. Раевский, сёстры В. Ф. и Е. Ф. Соллогуб.');\n",
      "INSERT INTO PhotoDescriptions (idPhoto, idAuthor, idLocation, year, photoDescription) VALUES (142125, 0, 319, 1930, '-1');\n",
      "INSERT INTO PhotoDescriptions (idPhoto, idAuthor, idLocation, year, photoDescription) VALUES (141438, 0, 319, 1930, '-1');\n",
      "INSERT INTO PhotoDescriptions (idPhoto, idAuthor, idLocation, year, photoDescription) VALUES (142131, 0, 319, 1930, '-1');\n",
      "INSERT INTO PhotoDescriptions (idPhoto, idAuthor, idLocation, year, photoDescription) VALUES (97081, 222, 319, 1896, '-1');\n",
      "INSERT INTO PhotoDescriptions (idPhoto, idAuthor, idLocation, year, photoDescription) VALUES (97083, 222, 319, 1910, '-1');\n",
      "INSERT INTO PhotoDescriptions (idPhoto, idAuthor, idLocation, year, photoDescription) VALUES (122638, 0, 22, 1907, 'Переснимок');\n",
      "INSERT INTO PhotoDescriptions (idPhoto, idAuthor, idLocation, year, photoDescription) VALUES (139230, 0, 119, 1890, '-1');\n",
      "INSERT INTO PhotoDescriptions (idPhoto, idAuthor, idLocation, year, photoDescription) VALUES (133709, 0, 319, 1905, 'Оля и Боря по краям. В центре двое приёмных.');\n",
      "INSERT INTO PhotoDescriptions (idPhoto, idAuthor, idLocation, year, photoDescription) VALUES (130599, 0, 162, 1887, '-1');\n",
      "INSERT INTO PhotoDescriptions (idPhoto, idAuthor, idLocation, year, photoDescription) VALUES (99737, 222, 128, 1902, '-1');\n",
      "INSERT INTO PhotoDescriptions (idPhoto, idAuthor, idLocation, year, photoDescription) VALUES (142127, 0, 319, -1, '-1');\n",
      "INSERT INTO PhotoDescriptions (idPhoto, idAuthor, idLocation, year, photoDescription) VALUES (142133, 0, 319, 1930, '-1');\n",
      "INSERT INTO PhotoDescriptions (idPhoto, idAuthor, idLocation, year, photoDescription) VALUES (44783, 222, 319, 1895, 'Слева направо: Александра Толстая, В.С. Толстая, М.Л. Толстая, С.А. Толстая, А.Л. Толстой (стоит), Миша Толстой (стоит), Л.Н. Толстой, В.Г. Чертков (стоит), Т.Л. Толстая, С.И. Танеев и Дмитрий Дьяков (стоит).');\n",
      "INSERT INTO PhotoDescriptions (idPhoto, idAuthor, idLocation, year, photoDescription) VALUES (139967, 222, 332, 1898, 'П.П.Трубецкой сидит справа, у самовара - С.А.Мамонова, слева сидят: М.А.Маклакова, А.Л.Толстая, П.И.Раевский, В.Ф. и Е.Ф.Соллогуб, во втором ряду сидят: Бутенев и Т.Л.Толстая, стоят Дм.Адамович Олсуфьев, П.А.Сергеенко, Голицын, Л.М.Сухотин и М.С.Сухотин.');\n",
      "INSERT INTO PhotoDescriptions (idPhoto, idAuthor, idLocation, year, photoDescription) VALUES (738, 222, 319, 1903, '-1');\n",
      "INSERT INTO PhotoDescriptions (idPhoto, idAuthor, idLocation, year, photoDescription) VALUES (92500, 222, 60, 1902, '-1');\n",
      "INSERT INTO PhotoDescriptions (idPhoto, idAuthor, idLocation, year, photoDescription) VALUES (89493, 222, 128, 1902, 'Слева направо: А. Л. Толстая, Н. Л. Оболенский, Л. Н. Толстой, С. Л. Толстой(стоит), Н. Н. Ге – сын, Н. Л. Оболенская, Ю. И. Игумнова и М. Л. Оболенская (рожд. Толстая).');\n",
      "INSERT INTO PhotoDescriptions (idPhoto, idAuthor, idLocation, year, photoDescription) VALUES (142090, 0, 319, 1930, '-1');\n",
      "INSERT INTO PhotoDescriptions (idPhoto, idAuthor, idLocation, year, photoDescription) VALUES (92716, 222, 319, 1897, '-1');\n",
      "INSERT INTO PhotoDescriptions (idPhoto, idAuthor, idLocation, year, photoDescription) VALUES (142046, 0, 309, 1915, '-1');\n",
      "INSERT INTO PhotoDescriptions (idPhoto, idAuthor, idLocation, year, photoDescription) VALUES (249, 222, 128, 1902, '-1');\n",
      "INSERT INTO PhotoDescriptions (idPhoto, idAuthor, idLocation, year, photoDescription) VALUES (92501, 222, 60, 1902, '-1');\n",
      "INSERT INTO PhotoDescriptions (idPhoto, idAuthor, idLocation, year, photoDescription) VALUES (142244, 0, 2, 1920, 'Раскрашенная фотография.');\n",
      "INSERT INTO PhotoDescriptions (idPhoto, idAuthor, idLocation, year, photoDescription) VALUES (141981, 0, 319, 1901, 'Стоят на площадке около крыльца.');\n",
      "INSERT INTO PhotoDescriptions (idPhoto, idAuthor, idLocation, year, photoDescription) VALUES (107644, 70, 319, 1908, '-1');\n",
      "INSERT INTO PhotoDescriptions (idPhoto, idAuthor, idLocation, year, photoDescription) VALUES (142132, 0, 319, 1930, '-1');\n",
      "INSERT INTO PhotoDescriptions (idPhoto, idAuthor, idLocation, year, photoDescription) VALUES (142126, 0, 319, -1, '-1');\n",
      "INSERT INTO PhotoDescriptions (idPhoto, idAuthor, idLocation, year, photoDescription) VALUES (130556, 0, 2, 1846, 'Фотография в овальном гнезде с металлическим обрамлением под стеклом. Фрагмент.');\n",
      "INSERT INTO PhotoDescriptions (idPhoto, idAuthor, idLocation, year, photoDescription) VALUES (139162, 222, 319, 1907, '-1');\n"
     ]
    },
    {
     "name": "stdout",
     "output_type": "stream",
     "text": [
      "INSERT INTO PhotoDescriptions (idPhoto, idAuthor, idLocation, year, photoDescription) VALUES (114755, 0, 247, 1900, 'На реке однопалубный пароход с надписью на полукруге в центре «Громовъ»; за кормой (слева) на привязи плывет лодка). На судне наверху в центре на корме и на носу пассажиры разных слоев общества (мужчины; женщины - большинство в шляпках, некоторые под зонтиками; девочки все смотрят в строну объектива). На 2-ом плане пологий пустынный берег. Над изображением автограф Вал.Ф.Булгакова, внизу на фото и картоне этикетка с м/п текстом.');\n",
      "INSERT INTO PhotoDescriptions (idPhoto, idAuthor, idLocation, year, photoDescription) VALUES (142261, 0, 2, 1920, '-1');\n",
      "INSERT INTO PhotoDescriptions (idPhoto, idAuthor, idLocation, year, photoDescription) VALUES (141026, 0, 2, 1856, 'Переснимок фотографии С.Левицкого 1856 г.');\n",
      "INSERT INTO PhotoDescriptions (idPhoto, idAuthor, idLocation, year, photoDescription) VALUES (141032, 222, 319, 1899, 'Слева направо: А. Л. Толстой, Н. Н. Ге – сын, А. Д. Архангельский, С. Л. и Т. Л. Толстые, М. Н. Толстая, Ш. Саломон и Л. Н. Толстой, С. А. Толстая, крестьянские девочки и Александра Толстая.');\n",
      "INSERT INTO PhotoDescriptions (idPhoto, idAuthor, idLocation, year, photoDescription) VALUES (137365, 222, 319, 1903, '-1');\n",
      "INSERT INTO PhotoDescriptions (idPhoto, idAuthor, idLocation, year, photoDescription) VALUES (140106, 0, 319, 1900, '-1');\n",
      "INSERT INTO PhotoDescriptions (idPhoto, idAuthor, idLocation, year, photoDescription) VALUES (250, 222, 60, 1902, '-1');\n",
      "INSERT INTO PhotoDescriptions (idPhoto, idAuthor, idLocation, year, photoDescription) VALUES (140107, 0, 319, 1906, '-1');\n",
      "INSERT INTO PhotoDescriptions (idPhoto, idAuthor, idLocation, year, photoDescription) VALUES (137364, 241, 29, 1906, '-1');\n",
      "INSERT INTO PhotoDescriptions (idPhoto, idAuthor, idLocation, year, photoDescription) VALUES (139349, 222, 319, 1903, '-1');\n",
      "INSERT INTO PhotoDescriptions (idPhoto, idAuthor, idLocation, year, photoDescription) VALUES (135215, 222, 319, 1903, '-1');\n",
      "INSERT INTO PhotoDescriptions (idPhoto, idAuthor, idLocation, year, photoDescription) VALUES (286, 222, 319, 1910, '-1');\n",
      "INSERT INTO PhotoDescriptions (idPhoto, idAuthor, idLocation, year, photoDescription) VALUES (141027, 222, 157, 1901, '-1');\n",
      "INSERT INTO PhotoDescriptions (idPhoto, idAuthor, idLocation, year, photoDescription) VALUES (137953, 222, 319, 1910, '-1');\n",
      "INSERT INTO PhotoDescriptions (idPhoto, idAuthor, idLocation, year, photoDescription) VALUES (98168, 222, 319, 1896, 'Фотография С. А. Толстой. Слева направо (на крыльце): Е. В. Оболенская, М. Л. Толстая, Александра Толстая; на 1-м плане: Михаил Толстой, Э. Борель, Д. Д. Дьяков, В. А. Маклаков, Л. Н. Толстой.');\n",
      "INSERT INTO PhotoDescriptions (idPhoto, idAuthor, idLocation, year, photoDescription) VALUES (141423, 241, 29, 1906, '-1');\n",
      "INSERT INTO PhotoDescriptions (idPhoto, idAuthor, idLocation, year, photoDescription) VALUES (142128, 0, 319, 1930, '-1');\n",
      "INSERT INTO PhotoDescriptions (idPhoto, idAuthor, idLocation, year, photoDescription) VALUES (139968, 222, 332, 1898, 'Справа сидят: П.П.Трубецкой, В.А.Маклаков, М.А.Маклакова, С.А.Мамонова, справа - у стола сидят: М.С.Сухотин, П.И.Раевский, В.Ф. и Е.Ф. Соллогуб, слева во втором ряду сидят Д.А.Олсуфьев и П.А.Сергеенко, стоят Голицын, Л.М.Сухотин и А.Л.Толстая.');\n",
      "INSERT INTO PhotoDescriptions (idPhoto, idAuthor, idLocation, year, photoDescription) VALUES (104592, 241, 263, 1909, 'Л.Н. Толстой справа, профиль влево, в тёмном пальто и шляпе, с тростью в руках, слева О.К. Толстая почти со спины. На втором плане часть бревенчатого дома.');\n",
      "INSERT INTO PhotoDescriptions (idPhoto, idAuthor, idLocation, year, photoDescription) VALUES (142262, 0, 319, 1930, '-1');\n",
      "INSERT INTO PhotoDescriptions (idPhoto, idAuthor, idLocation, year, photoDescription) VALUES (96027, 241, 80, 1910, '-1');\n",
      "INSERT INTO PhotoDescriptions (idPhoto, idAuthor, idLocation, year, photoDescription) VALUES (737, 222, 319, 1897, '-1');\n",
      "INSERT INTO PhotoDescriptions (idPhoto, idAuthor, idLocation, year, photoDescription) VALUES (109061, 222, 319, 1902, '-1');\n",
      "INSERT INTO PhotoDescriptions (idPhoto, idAuthor, idLocation, year, photoDescription) VALUES (141025, 0, 337, 1925, '-1');\n",
      "INSERT INTO PhotoDescriptions (idPhoto, idAuthor, idLocation, year, photoDescription) VALUES (89488, 222, 319, 1899, 'Слева направо: А. Л. Толстой, Н. Н. Ге – сын, А. Д. Архангельский, С. Л. и Т. Л. Толстые, М. Н. Толстая, Ш. Саломон и Л. Н. Толстой, С. А. Толстая, крестьянские девочки и Александра Толстая.');\n",
      "INSERT INTO PhotoDescriptions (idPhoto, idAuthor, idLocation, year, photoDescription) VALUES (142048, 0, 2, 1916, '-1');\n",
      "INSERT INTO PhotoDescriptions (idPhoto, idAuthor, idLocation, year, photoDescription) VALUES (92718, 222, 319, 1897, 'Слева направо сидят: С. А., Т.Л. и Л. Н. Толстые; \n",
      "стоят: Александра Толстая, \n",
      "А. К. Син-Джон, Д.Ф. Толстая, А.Н. Дунаев, С.Т. Семёнов, П.А. Буланже.');\n",
      "INSERT INTO PhotoDescriptions (idPhoto, idAuthor, idLocation, year, photoDescription) VALUES (89476, 222, 319, 1887, 'Слева направо: Сергей Толстой, Лев (Львович) Толстой, Л. Н. Толстой с дочерью Сашей, Михаил, Илья и Татьяна Толстые;верхний ряд: Мария Толстая, С. А. Толстая, Андрей Толстой.');\n",
      "INSERT INTO PhotoDescriptions (idPhoto, idAuthor, idLocation, year, photoDescription) VALUES (246, 161, 319, 1901, '-1');\n",
      "INSERT INTO PhotoDescriptions (idPhoto, idAuthor, idLocation, year, photoDescription) VALUES (89489, 222, 319, 1899, 'Слева направо стоят: Александра Толстая, А. Л. и О. К. Толстые, Е. Н. Малютин, А. Д. Дьяков, Л. А. Бобринский, Н. Н. Ге – сын, Ю. И. Игумнова, С. Л. Толстой, Д. Д. Дьяков, А. Д. Архангельский; сидят: Мар. А. Стахович, С. А. и Л. Н. Толстые, С. А. Стахович, А. Б. Гольденвейзер; на земле: М. А. Маклакова, Т. Л. Толстая и М. Л. Толстой, М. К. Дитерихс.');\n",
      "INSERT INTO PhotoDescriptions (idPhoto, idAuthor, idLocation, year, photoDescription) VALUES (110928, 70, 319, 1908, '-1');\n",
      "INSERT INTO PhotoDescriptions (idPhoto, idAuthor, idLocation, year, photoDescription) VALUES (736, 222, 319, 1896, 'Слева направо стоят: Л.Н. Толстой, Н.Л. Оболенский, М.Л. Толстая. \n",
      "Сидят: С.А. Толстая, А.Л. Толстая, М.А. Шмидт.');\n",
      "INSERT INTO PhotoDescriptions (idPhoto, idAuthor, idLocation, year, photoDescription) VALUES (142263, 0, 319, 1930, 'Среди прочих: И.В. Сидорков, М.А. Цявловский, В.В. Наум, К.Д. Платонова и др.');\n",
      "INSERT INTO PhotoDescriptions (idPhoto, idAuthor, idLocation, year, photoDescription) VALUES (132784, 0, 234, 1908, '-1');\n",
      "INSERT INTO PhotoDescriptions (idPhoto, idAuthor, idLocation, year, photoDescription) VALUES (142129, 0, 2, 1900, '-1');\n",
      "INSERT INTO PhotoDescriptions (idPhoto, idAuthor, idLocation, year, photoDescription) VALUES (137549, 161, 319, 1901, '-1');\n",
      "INSERT INTO PhotoDescriptions (idPhoto, idAuthor, idLocation, year, photoDescription) VALUES (141424, 0, 29, 1900, '-1');\n",
      "INSERT INTO PhotoDescriptions (idPhoto, idAuthor, idLocation, year, photoDescription) VALUES (99729, 222, 319, 1895, 'Слева направо: Александра Толстая, В.С. Толстая, М. Л. Толстая, Э. Борель, А.Л. Вельш, Андрей Толстой, С.А. Толстая, А.А. Курсинский, Л.Н. Толстой, Т.Л. Толстая, Д.Д. Дьяков, С.И. Танеев, Михаил Толстой.');\n",
      "INSERT INTO PhotoDescriptions (idPhoto, idAuthor, idLocation, year, photoDescription) VALUES (140712, 222, 60, 1902, 'Л.Н. полулежит в кровати под пестрым одеялом, руки лежат на одеяле. Справа сидит в кресле, сложив руки  С.А');\n",
      "INSERT INTO PhotoDescriptions (idPhoto, idAuthor, idLocation, year, photoDescription) VALUES (134291, 161, 311, 1901, '-1');\n",
      "INSERT INTO PhotoDescriptions (idPhoto, idAuthor, idLocation, year, photoDescription) VALUES (92734, 211, 126, 1910, 'Слева направо: и М.С. Сухотин, Л.Н. Толстой с внучкой Таней Сухотиной, Л.М. Сухотин (сзади), С.М. Сухотин, Т.Л. Сухотина за руку с Микой Сухотиным (сыном пасынка Льва).');\n",
      "INSERT INTO PhotoDescriptions (idPhoto, idAuthor, idLocation, year, photoDescription) VALUES (142064, 0, 319, 1930, '-1');\n",
      "INSERT INTO PhotoDescriptions (idPhoto, idAuthor, idLocation, year, photoDescription) VALUES (135213, 222, 319, 1899, '-1');\n",
      "INSERT INTO PhotoDescriptions (idPhoto, idAuthor, idLocation, year, photoDescription) VALUES (733, 222, 319, 1899, 'Слева направо: Ш. Саломон, М.Н. Толстая, М.Л. Толстой, Т.Л. Толстая, Л.Н. Толстой, Н.Н. Ге (сын). \n",
      "Стоят: С.А. Толстая, Джеймс Мэвор, С.Л. Толстой, Д.Д. Дьяков, А.Л. Толстая, А.Л. и О.К. Толстые, А.Л. Вельш.');\n",
      "INSERT INTO PhotoDescriptions (idPhoto, idAuthor, idLocation, year, photoDescription) VALUES (142266, 0, 319, 1934, 'В верхнем ряду: С.Л. Толстой, управляющий Ясной Поляной, неизвестный, Х.Н. Абрикосов, М. А. Цявловский; в центре: неизвестный, неизвестный, А.И. Попова; на 1-м плане: неизвестный, К.Д. Платонова, Е.С. Денисенко, Н.Л. Оболенская, С.И. Щёголев.');\n",
      "INSERT INTO PhotoDescriptions (idPhoto, idAuthor, idLocation, year, photoDescription) VALUES (139159, 222, 319, 1903, 'Слева направо стоят: И.Л. Толстой, А.Л. Толстая, С.Н. Толстая, И.В. Денисенко, Н.М. Сухотина, Д.В. Никитин, А.И. Толстая; сидят во 2-м ряду: С.А. Толстая с внуком В.И. Толстым, Л.Н. Толстой, Е.С. Денисенко, М.И. и А.И. Толстые, М.Н. Толстая. Сидят на земле: О.И. Денисенко, И.И. Толстой и Т.И. Денисенко.');\n",
      "INSERT INTO PhotoDescriptions (idPhoto, idAuthor, idLocation, year, photoDescription) VALUES (134290, 222, 128, 1902, '-1');\n"
     ]
    },
    {
     "name": "stdout",
     "output_type": "stream",
     "text": [
      "INSERT INTO PhotoDescriptions (idPhoto, idAuthor, idLocation, year, photoDescription) VALUES (141425, 0, 319, 1920, '-1');\n",
      "INSERT INTO PhotoDescriptions (idPhoto, idAuthor, idLocation, year, photoDescription) VALUES (23249, 241, 2, 1909, '-1');\n",
      "INSERT INTO PhotoDescriptions (idPhoto, idAuthor, idLocation, year, photoDescription) VALUES (140739, 0, 2, -1, 'Фото с миниатюры акварелью');\n",
      "INSERT INTO PhotoDescriptions (idPhoto, idAuthor, idLocation, year, photoDescription) VALUES (137758, 222, 319, 1906, '-1');\n",
      "INSERT INTO PhotoDescriptions (idPhoto, idAuthor, idLocation, year, photoDescription) VALUES (134292, 222, 128, 1902, '-1');\n",
      "INSERT INTO PhotoDescriptions (idPhoto, idAuthor, idLocation, year, photoDescription) VALUES (139167, 222, 319, 1909, '-1');\n",
      "INSERT INTO PhotoDescriptions (idPhoto, idAuthor, idLocation, year, photoDescription) VALUES (91955, 0, 2, 1890, '-1');\n",
      "INSERT INTO PhotoDescriptions (idPhoto, idAuthor, idLocation, year, photoDescription) VALUES (100719, 222, 319, 1910, '-1');\n",
      "INSERT INTO PhotoDescriptions (idPhoto, idAuthor, idLocation, year, photoDescription) VALUES (141989, 0, 319, 1910, '-1');\n",
      "INSERT INTO PhotoDescriptions (idPhoto, idAuthor, idLocation, year, photoDescription) VALUES (142258, 0, 2, 1912, '-1');\n",
      "INSERT INTO PhotoDescriptions (idPhoto, idAuthor, idLocation, year, photoDescription) VALUES (282, 211, 120, 1910, '-1');\n",
      "INSERT INTO PhotoDescriptions (idPhoto, idAuthor, idLocation, year, photoDescription) VALUES (140103, 0, 319, 1900, '-1');\n",
      "INSERT INTO PhotoDescriptions (idPhoto, idAuthor, idLocation, year, photoDescription) VALUES (142067, 0, 319, 1903, '-1');\n",
      "INSERT INTO PhotoDescriptions (idPhoto, idAuthor, idLocation, year, photoDescription) VALUES (140102, 0, 319, 1900, '-1');\n",
      "INSERT INTO PhotoDescriptions (idPhoto, idAuthor, idLocation, year, photoDescription) VALUES (142259, 0, 2, 1920, '-1');\n",
      "INSERT INTO PhotoDescriptions (idPhoto, idAuthor, idLocation, year, photoDescription) VALUES (141988, 0, 319, 1900, '-1');\n",
      "INSERT INTO PhotoDescriptions (idPhoto, idAuthor, idLocation, year, photoDescription) VALUES (134293, 222, 128, 1902, '-1');\n",
      "INSERT INTO PhotoDescriptions (idPhoto, idAuthor, idLocation, year, photoDescription) VALUES (97289, 212, 347, 1909, '-1');\n",
      "INSERT INTO PhotoDescriptions (idPhoto, idAuthor, idLocation, year, photoDescription) VALUES (133271, 161, 319, 1903, '-1');\n",
      "INSERT INTO PhotoDescriptions (idPhoto, idAuthor, idLocation, year, photoDescription) VALUES (97074, 222, 60, 1901, '-1');\n",
      "INSERT INTO PhotoDescriptions (idPhoto, idAuthor, idLocation, year, photoDescription) VALUES (142174, 0, 319, 1930, '-1');\n",
      "INSERT INTO PhotoDescriptions (idPhoto, idAuthor, idLocation, year, photoDescription) VALUES (114332, 0, 109, 1920, 'На 1-ом плане слева - лесопильный завод, справа - слесарная мастерская. В центре на втором плане, на взгорке - два жилых дома. По обе стороны пологие горы, поросшие редкими елями.');\n",
      "INSERT INTO PhotoDescriptions (idPhoto, idAuthor, idLocation, year, photoDescription) VALUES (141441, 0, 2, 1922, '-1');\n",
      "INSERT INTO PhotoDescriptions (idPhoto, idAuthor, idLocation, year, photoDescription) VALUES (140039, 0, 319, 1900, '-1');\n",
      "INSERT INTO PhotoDescriptions (idPhoto, idAuthor, idLocation, year, photoDescription) VALUES (130086, 0, 319, 1901, '-1');\n",
      "INSERT INTO PhotoDescriptions (idPhoto, idAuthor, idLocation, year, photoDescription) VALUES (41723, 186, 319, 1903, 'Слева направо в 1-м ряду: Д.В. Никитин, М.М. Сухотин, М.Л. Толстой с Онисимом Денисенко, И.Л. Толстой, А.Л. Толстой, А.А. Берс; \n",
      "во 2-м ряду: В.И. Сидоркова, Е.С. Денисенко, О.К. Толстая с дочерью Соней Толстая, С.А. и  Л.Н. Толстые, М.Л. Оболенская, Д.Ф. Толстая, С.Т. Семенов; \n",
      "в 3- ряду: Ю.И. Игумнова, Н.Л. Оболенский, В.А. Кузминская, П.А. Буланже, А.Б. Гольденвейзер, И.И. Горбунов-Посадов, К.В. Орлов, Л.Л. Толстой, С.Л. Толстой, А.Л. Толстая, Т.Л. Сухотина, П.А. Сергеенко, А.И. Толстая.');\n",
      "INSERT INTO PhotoDescriptions (idPhoto, idAuthor, idLocation, year, photoDescription) VALUES (92792, 222, 319, 1896, '-1');\n",
      "INSERT INTO PhotoDescriptions (idPhoto, idAuthor, idLocation, year, photoDescription) VALUES (142015, 0, 2, 1900, '-1');\n",
      "INSERT INTO PhotoDescriptions (idPhoto, idAuthor, idLocation, year, photoDescription) VALUES (142203, 0, 319, 1920, '-1');\n",
      "INSERT INTO PhotoDescriptions (idPhoto, idAuthor, idLocation, year, photoDescription) VALUES (137924, 222, 319, 1900, '-1');\n",
      "INSERT INTO PhotoDescriptions (idPhoto, idAuthor, idLocation, year, photoDescription) VALUES (142363, 0, 2, 1912, '-1');\n",
      "INSERT INTO PhotoDescriptions (idPhoto, idAuthor, idLocation, year, photoDescription) VALUES (46677, 222, 319, 1908, '-1');\n",
      "INSERT INTO PhotoDescriptions (idPhoto, idAuthor, idLocation, year, photoDescription) VALUES (99759, 222, 319, 1903, '-1');\n",
      "INSERT INTO PhotoDescriptions (idPhoto, idAuthor, idLocation, year, photoDescription) VALUES (142175, 0, 319, 1920, '-1');\n",
      "INSERT INTO PhotoDescriptions (idPhoto, idAuthor, idLocation, year, photoDescription) VALUES (135470, 241, 29, 1906, '-1');\n",
      "INSERT INTO PhotoDescriptions (idPhoto, idAuthor, idLocation, year, photoDescription) VALUES (40947, 184, 162, 1898, '-1');\n",
      "INSERT INTO PhotoDescriptions (idPhoto, idAuthor, idLocation, year, photoDescription) VALUES (140006, 0, 319, 1900, '-1');\n",
      "INSERT INTO PhotoDescriptions (idPhoto, idAuthor, idLocation, year, photoDescription) VALUES (133956, 222, 319, 1903, 'около «дерева бедных» стоит Л.Л. Толстой.');\n",
      "INSERT INTO PhotoDescriptions (idPhoto, idAuthor, idLocation, year, photoDescription) VALUES (142177, 0, 319, 1920, '-1');\n",
      "INSERT INTO PhotoDescriptions (idPhoto, idAuthor, idLocation, year, photoDescription) VALUES (94914, 61, 319, 1905, '-1');\n",
      "INSERT INTO PhotoDescriptions (idPhoto, idAuthor, idLocation, year, photoDescription) VALUES (110427, 241, 319, 1908, '-1');\n",
      "INSERT INTO PhotoDescriptions (idPhoto, idAuthor, idLocation, year, photoDescription) VALUES (46926, 222, 319, 1896, 'Слева направо: А.А. Шкарван, А.Л. Толстой, М.Л. Толстая, Н.Л. Оболенский, Д.Ф. Толстая, Л.Л. Толстой, Александра Толстая, С.Л. Толстой, Л.Н. и С.А. Толстые.');\n",
      "INSERT INTO PhotoDescriptions (idPhoto, idAuthor, idLocation, year, photoDescription) VALUES (142201, 0, 2, 1920, '-1');\n",
      "INSERT INTO PhotoDescriptions (idPhoto, idAuthor, idLocation, year, photoDescription) VALUES (46729, 222, 319, 1908, '-1');\n",
      "INSERT INTO PhotoDescriptions (idPhoto, idAuthor, idLocation, year, photoDescription) VALUES (126977, 0, 2, 1898, '-1');\n",
      "INSERT INTO PhotoDescriptions (idPhoto, idAuthor, idLocation, year, photoDescription) VALUES (139328, 222, 319, 1903, 'Около лошади кучер И.В. Егоров.');\n",
      "INSERT INTO PhotoDescriptions (idPhoto, idAuthor, idLocation, year, photoDescription) VALUES (48507, 222, 319, 1908, '-1');\n",
      "INSERT INTO PhotoDescriptions (idPhoto, idAuthor, idLocation, year, photoDescription) VALUES (139329, 222, 319, 1903, 'Слева на заднем плане О.К. Толстая с дочерью Соней.');\n",
      "INSERT INTO PhotoDescriptions (idPhoto, idAuthor, idLocation, year, photoDescription) VALUES (92633, 222, 319, 1907, '-1');\n",
      "INSERT INTO PhotoDescriptions (idPhoto, idAuthor, idLocation, year, photoDescription) VALUES (142176, 0, 166, 1920, '-1');\n",
      "INSERT INTO PhotoDescriptions (idPhoto, idAuthor, idLocation, year, photoDescription) VALUES (40946, 162, 311, 1901, '-1');\n",
      "INSERT INTO PhotoDescriptions (idPhoto, idAuthor, idLocation, year, photoDescription) VALUES (93288, 0, 319, 1920, 'На первом плане - Е.И. Гвоздева (рожд. Долина-Ивановская),  М.А. Толстая. Во втором ряду: Т.М. Сухотина, Данилова (?) и Т.Л. Толстая-Сухотина.');\n",
      "INSERT INTO PhotoDescriptions (idPhoto, idAuthor, idLocation, year, photoDescription) VALUES (141490, 0, 162, 1906, '-1');\n",
      "INSERT INTO PhotoDescriptions (idPhoto, idAuthor, idLocation, year, photoDescription) VALUES (141447, 0, 319, 1930, '-1');\n",
      "INSERT INTO PhotoDescriptions (idPhoto, idAuthor, idLocation, year, photoDescription) VALUES (94520, 222, 319, 1899, 'внук Льва Николаевича Толстого');\n",
      "INSERT INTO PhotoDescriptions (idPhoto, idAuthor, idLocation, year, photoDescription) VALUES (133953, 222, 319, 1903, '-1');\n",
      "INSERT INTO PhotoDescriptions (idPhoto, idAuthor, idLocation, year, photoDescription) VALUES (142172, 0, 319, 1920, '-1');\n",
      "INSERT INTO PhotoDescriptions (idPhoto, idAuthor, idLocation, year, photoDescription) VALUES (139926, 0, 2, 1906, '-1');\n",
      "INSERT INTO PhotoDescriptions (idPhoto, idAuthor, idLocation, year, photoDescription) VALUES (109629, 0, 11, 1861, '-1');\n",
      "INSERT INTO PhotoDescriptions (idPhoto, idAuthor, idLocation, year, photoDescription) VALUES (137923, 222, 319, 1896, '-1');\n"
     ]
    },
    {
     "name": "stdout",
     "output_type": "stream",
     "text": [
      "INSERT INTO PhotoDescriptions (idPhoto, idAuthor, idLocation, year, photoDescription) VALUES (47618, 200, 319, 1908, '-1');\n",
      "INSERT INTO PhotoDescriptions (idPhoto, idAuthor, idLocation, year, photoDescription) VALUES (234, 222, 319, 1897, 'Фотография, сделанная для скульптора И.Я. Гинцбурга.');\n",
      "INSERT INTO PhotoDescriptions (idPhoto, idAuthor, idLocation, year, photoDescription) VALUES (114269, 0, 109, 1920, 'На 1-ом плане огромное поле. На 2-ом жилой дом, амбар для хлеба, кирпичный и лесопильный заводы. Слева и справа от строений - фруктовые сады.Вдали пологие горы с редкими елями.');\n",
      "INSERT INTO PhotoDescriptions (idPhoto, idAuthor, idLocation, year, photoDescription) VALUES (142205, 0, 319, 1920, '-1');\n",
      "INSERT INTO PhotoDescriptions (idPhoto, idAuthor, idLocation, year, photoDescription) VALUES (137922, 222, 319, 1905, '-1');\n",
      "INSERT INTO PhotoDescriptions (idPhoto, idAuthor, idLocation, year, photoDescription) VALUES (132696, 222, 319, 1898, '-1');\n",
      "INSERT INTO PhotoDescriptions (idPhoto, idAuthor, idLocation, year, photoDescription) VALUES (135648, 222, 319, 1897, 'Слева направо: Л. Н. Толстой, Н. Л. Оболенский, Александра и Мария Толстые, С. А. Толстая, А. Б. Гольденвейзер, Т. Л. Толстая.');\n",
      "INSERT INTO PhotoDescriptions (idPhoto, idAuthor, idLocation, year, photoDescription) VALUES (142173, 0, 2, 1920, '-1');\n",
      "INSERT INTO PhotoDescriptions (idPhoto, idAuthor, idLocation, year, photoDescription) VALUES (141446, 0, 319, 1920, '-1');\n",
      "INSERT INTO PhotoDescriptions (idPhoto, idAuthor, idLocation, year, photoDescription) VALUES (142198, 0, 319, 1930, '-1');\n",
      "INSERT INTO PhotoDescriptions (idPhoto, idAuthor, idLocation, year, photoDescription) VALUES (92191, 222, 319, 1905, '-1');\n",
      "INSERT INTO PhotoDescriptions (idPhoto, idAuthor, idLocation, year, photoDescription) VALUES (141450, 0, 319, 1920, '-1');\n",
      "INSERT INTO PhotoDescriptions (idPhoto, idAuthor, idLocation, year, photoDescription) VALUES (140028, 0, 319, 1900, '-1');\n",
      "INSERT INTO PhotoDescriptions (idPhoto, idAuthor, idLocation, year, photoDescription) VALUES (141444, 0, 319, 1930, '-1');\n",
      "INSERT INTO PhotoDescriptions (idPhoto, idAuthor, idLocation, year, photoDescription) VALUES (140982, 222, 319, 1910, '-1');\n",
      "INSERT INTO PhotoDescriptions (idPhoto, idAuthor, idLocation, year, photoDescription) VALUES (91856, 8, 257, 1901, '-1');\n",
      "INSERT INTO PhotoDescriptions (idPhoto, idAuthor, idLocation, year, photoDescription) VALUES (102958, 8, 257, 1901, '-1');\n",
      "INSERT INTO PhotoDescriptions (idPhoto, idAuthor, idLocation, year, photoDescription) VALUES (134408, 161, 311, 1901, 'Переснимок.');\n",
      "INSERT INTO PhotoDescriptions (idPhoto, idAuthor, idLocation, year, photoDescription) VALUES (140835, 222, 319, 1903, 'Слева направо сидят на земле: О.И.Денисенко, И.И.Толстой, Т.И.Денисенко; во втором ряду: С.А.Толстая с В.И.Толстым на коленях, Л.Н.Толстой, Е.С.Денисенко, М.И.Толстой, А.И.Толстой, М.Н.Толстая; стоят: И.Л.Толстой, А.Л.ТолстаяЮ С.Н.Толстая, И.В.Денисенко, Н.М.Сухотина, Д.В.Никитин, А.И.Толстая');\n",
      "INSERT INTO PhotoDescriptions (idPhoto, idAuthor, idLocation, year, photoDescription) VALUES (236, 222, 162, 1898, '-1');\n",
      "INSERT INTO PhotoDescriptions (idPhoto, idAuthor, idLocation, year, photoDescription) VALUES (91857, 8, 257, 1901, '-1');\n",
      "INSERT INTO PhotoDescriptions (idPhoto, idAuthor, idLocation, year, photoDescription) VALUES (142170, 0, 319, 1920, '-1');\n",
      "INSERT INTO PhotoDescriptions (idPhoto, idAuthor, idLocation, year, photoDescription) VALUES (140983, 222, 319, 1910, '-1');\n",
      "INSERT INTO PhotoDescriptions (idPhoto, idAuthor, idLocation, year, photoDescription) VALUES (141445, 0, 319, 1930, '-1');\n",
      "INSERT INTO PhotoDescriptions (idPhoto, idAuthor, idLocation, year, photoDescription) VALUES (141451, 0, 319, 1920, '-1');\n"
     ]
    }
   ],
   "source": [
    "for row in df_temp.iterrows():\n",
    "    id_photo = row[1]['id']\n",
    "    id_author = row[1]['AUTHOR_REFINED']\n",
    "    id_location = row[1]['GEOGR_REFINED']\n",
    "    year = int(row[1]['year'])\n",
    "    descr = str(row[1]['COMPNAM'])\n",
    "    query = \"INSERT INTO PhotoDescriptions (idPhoto, idAuthor, idLocation, year, photoDescription) \" + \\\n",
    "    f\"VALUES ({id_photo}, {id_author}, {id_location}, {year}, '{descr}');\"\n",
    "    try:\n",
    "        cur.execute(query)\n",
    "    except:\n",
    "        # дубликаты фотографий\n",
    "        print(query)"
   ]
  },
  {
   "cell_type": "code",
   "execution_count": 21,
   "metadata": {},
   "outputs": [],
   "source": [
    "con.commit()"
   ]
  },
  {
   "cell_type": "markdown",
   "metadata": {},
   "source": [
    "### Музейные пометы"
   ]
  },
  {
   "cell_type": "code",
   "execution_count": 22,
   "metadata": {},
   "outputs": [
    {
     "data": {
      "text/html": [
       "<div>\n",
       "<style scoped>\n",
       "    .dataframe tbody tr th:only-of-type {\n",
       "        vertical-align: middle;\n",
       "    }\n",
       "\n",
       "    .dataframe tbody tr th {\n",
       "        vertical-align: top;\n",
       "    }\n",
       "\n",
       "    .dataframe thead th {\n",
       "        text-align: right;\n",
       "    }\n",
       "</style>\n",
       "<table border=\"1\" class=\"dataframe\">\n",
       "  <thead>\n",
       "    <tr style=\"text-align: right;\">\n",
       "      <th></th>\n",
       "      <th>id</th>\n",
       "      <th>IDENTIF</th>\n",
       "      <th>INV</th>\n",
       "      <th>AUTHOR</th>\n",
       "      <th>GEOGR</th>\n",
       "    </tr>\n",
       "  </thead>\n",
       "  <tbody>\n",
       "    <tr>\n",
       "      <td>0</td>\n",
       "      <td>115964</td>\n",
       "      <td>ГМТ КП-11486/21</td>\n",
       "      <td>Ф-12746</td>\n",
       "      <td>Кулаков П.Е.</td>\n",
       "      <td>Ясная Поляна</td>\n",
       "    </tr>\n",
       "    <tr>\n",
       "      <td>1</td>\n",
       "      <td>136165</td>\n",
       "      <td>ГМТ КП-5954/3</td>\n",
       "      <td>Ф-1125</td>\n",
       "      <td>Бодянский И.А.</td>\n",
       "      <td>Ясная Поляна</td>\n",
       "    </tr>\n",
       "    <tr>\n",
       "      <td>2</td>\n",
       "      <td>136603</td>\n",
       "      <td>ГМТ КП-5680/6</td>\n",
       "      <td>Ф-1469</td>\n",
       "      <td>Смирнов</td>\n",
       "      <td>Ясная Поляна</td>\n",
       "    </tr>\n",
       "    <tr>\n",
       "      <td>3</td>\n",
       "      <td>106918</td>\n",
       "      <td>ГМТ КП-7448/1</td>\n",
       "      <td>Ф-1597</td>\n",
       "      <td>Соловьев В.С.</td>\n",
       "      <td>с. Никольское Московской губ.</td>\n",
       "    </tr>\n",
       "    <tr>\n",
       "      <td>4</td>\n",
       "      <td>142182</td>\n",
       "      <td>ГМТ КП-13123/82</td>\n",
       "      <td>Ф-13637/82</td>\n",
       "      <td>-1</td>\n",
       "      <td>-1</td>\n",
       "    </tr>\n",
       "  </tbody>\n",
       "</table>\n",
       "</div>"
      ],
      "text/plain": [
       "       id          IDENTIF         INV          AUTHOR  \\\n",
       "0  115964  ГМТ КП-11486/21     Ф-12746    Кулаков П.Е.   \n",
       "1  136165    ГМТ КП-5954/3      Ф-1125  Бодянский И.А.   \n",
       "2  136603    ГМТ КП-5680/6      Ф-1469         Смирнов   \n",
       "3  106918    ГМТ КП-7448/1      Ф-1597   Соловьев В.С.   \n",
       "4  142182  ГМТ КП-13123/82  Ф-13637/82              -1   \n",
       "\n",
       "                           GEOGR  \n",
       "0                   Ясная Поляна  \n",
       "1                   Ясная Поляна  \n",
       "2                   Ясная Поляна  \n",
       "3  с. Никольское Московской губ.  \n",
       "4                             -1  "
      ]
     },
     "execution_count": 22,
     "metadata": {},
     "output_type": "execute_result"
    }
   ],
   "source": [
    "df_temp = pd.read_csv(\"db_museum_annotations.tsv\", sep=\"\\t\", encoding=\"utf-8\")\n",
    "df_temp.head()"
   ]
  },
  {
   "cell_type": "code",
   "execution_count": 23,
   "metadata": {},
   "outputs": [],
   "source": [
    "for row in df_temp.iterrows():\n",
    "    id_photo = row[1]['id']\n",
    "    identif = row[1]['IDENTIF']\n",
    "    inv = row[1]['INV']\n",
    "    author_orig = str(row[1]['AUTHOR'])\n",
    "    geogr_orig = str(row[1]['GEOGR'])\n",
    "    query = \"INSERT INTO MuseumAnnotations (idPhoto, idIdentif, idInv, originalAuthor, originalLocation) \" + \\\n",
    "    f\"VALUES ({id_photo}, '{identif}', '{inv}', '{author_orig}', '{geogr_orig}');\"\n",
    "    try:\n",
    "        cur.execute(query)\n",
    "    except:\n",
    "        print(query)"
   ]
  },
  {
   "cell_type": "code",
   "execution_count": 24,
   "metadata": {},
   "outputs": [],
   "source": [
    "con.commit()"
   ]
  },
  {
   "cell_type": "markdown",
   "metadata": {},
   "source": [
    "### Физическое описание фотографий"
   ]
  },
  {
   "cell_type": "code",
   "execution_count": 25,
   "metadata": {},
   "outputs": [
    {
     "data": {
      "text/html": [
       "<div>\n",
       "<style scoped>\n",
       "    .dataframe tbody tr th:only-of-type {\n",
       "        vertical-align: middle;\n",
       "    }\n",
       "\n",
       "    .dataframe tbody tr th {\n",
       "        vertical-align: top;\n",
       "    }\n",
       "\n",
       "    .dataframe thead th {\n",
       "        text-align: right;\n",
       "    }\n",
       "</style>\n",
       "<table border=\"1\" class=\"dataframe\">\n",
       "  <thead>\n",
       "    <tr style=\"text-align: right;\">\n",
       "      <th></th>\n",
       "      <th>id</th>\n",
       "      <th>width</th>\n",
       "      <th>height</th>\n",
       "      <th>INSCR</th>\n",
       "    </tr>\n",
       "  </thead>\n",
       "  <tbody>\n",
       "    <tr>\n",
       "      <td>0</td>\n",
       "      <td>115964</td>\n",
       "      <td>7.4</td>\n",
       "      <td>7.1</td>\n",
       "      <td>-1</td>\n",
       "    </tr>\n",
       "    <tr>\n",
       "      <td>1</td>\n",
       "      <td>136165</td>\n",
       "      <td>17.8</td>\n",
       "      <td>23.5</td>\n",
       "      <td>-1</td>\n",
       "    </tr>\n",
       "    <tr>\n",
       "      <td>2</td>\n",
       "      <td>136603</td>\n",
       "      <td>10.3</td>\n",
       "      <td>16.5</td>\n",
       "      <td>-1</td>\n",
       "    </tr>\n",
       "    <tr>\n",
       "      <td>3</td>\n",
       "      <td>106918</td>\n",
       "      <td>10.3</td>\n",
       "      <td>16.7</td>\n",
       "      <td>-1</td>\n",
       "    </tr>\n",
       "    <tr>\n",
       "      <td>4</td>\n",
       "      <td>142182</td>\n",
       "      <td>6.0</td>\n",
       "      <td>5.4</td>\n",
       "      <td>-1</td>\n",
       "    </tr>\n",
       "  </tbody>\n",
       "</table>\n",
       "</div>"
      ],
      "text/plain": [
       "       id  width  height INSCR\n",
       "0  115964    7.4     7.1    -1\n",
       "1  136165   17.8    23.5    -1\n",
       "2  136603   10.3    16.5    -1\n",
       "3  106918   10.3    16.7    -1\n",
       "4  142182    6.0     5.4    -1"
      ]
     },
     "execution_count": 25,
     "metadata": {},
     "output_type": "execute_result"
    }
   ],
   "source": [
    "df_temp = pd.read_csv(\"db_physical_descr.tsv\", sep=\"\\t\", encoding=\"utf-8\")\n",
    "df_temp.head()"
   ]
  },
  {
   "cell_type": "code",
   "execution_count": 26,
   "metadata": {},
   "outputs": [],
   "source": [
    "for row in df_temp.iterrows():\n",
    "    id_photo = row[1]['id']\n",
    "    width = float(row[1]['width'])\n",
    "    height = float(row[1]['height'])\n",
    "    inscr = row[1]['INSCR']\n",
    "    query = \"INSERT INTO PhotoPhysicalDescriptions (idPhoto, width, height, inscription) \" + \\\n",
    "    f\"VALUES ({id_photo}, {width}, {height}, '{inscr}');\"\n",
    "    try:\n",
    "        cur.execute(query)\n",
    "    except:\n",
    "        print(query)"
   ]
  },
  {
   "cell_type": "code",
   "execution_count": 27,
   "metadata": {},
   "outputs": [],
   "source": [
    "con.commit()"
   ]
  },
  {
   "cell_type": "markdown",
   "metadata": {},
   "source": [
    "### Файлы"
   ]
  },
  {
   "cell_type": "code",
   "execution_count": 28,
   "metadata": {},
   "outputs": [
    {
     "data": {
      "text/html": [
       "<div>\n",
       "<style scoped>\n",
       "    .dataframe tbody tr th:only-of-type {\n",
       "        vertical-align: middle;\n",
       "    }\n",
       "\n",
       "    .dataframe tbody tr th {\n",
       "        vertical-align: top;\n",
       "    }\n",
       "\n",
       "    .dataframe thead th {\n",
       "        text-align: right;\n",
       "    }\n",
       "</style>\n",
       "<table border=\"1\" class=\"dataframe\">\n",
       "  <thead>\n",
       "    <tr style=\"text-align: right;\">\n",
       "      <th></th>\n",
       "      <th>id</th>\n",
       "      <th>miniature_path</th>\n",
       "      <th>fullsize_path</th>\n",
       "    </tr>\n",
       "  </thead>\n",
       "  <tbody>\n",
       "    <tr>\n",
       "      <td>0</td>\n",
       "      <td>115964</td>\n",
       "      <td>./data/miniature/00115964.jpg</td>\n",
       "      <td>./data/fullsize/00115964.jpg</td>\n",
       "    </tr>\n",
       "    <tr>\n",
       "      <td>1</td>\n",
       "      <td>136165</td>\n",
       "      <td>./data/miniature/00136165.jpg</td>\n",
       "      <td>./data/fullsize/00136165.jpg</td>\n",
       "    </tr>\n",
       "    <tr>\n",
       "      <td>2</td>\n",
       "      <td>136603</td>\n",
       "      <td>./data/miniature/00136603.jpg</td>\n",
       "      <td>./data/fullsize/00136603.jpg</td>\n",
       "    </tr>\n",
       "    <tr>\n",
       "      <td>3</td>\n",
       "      <td>106918</td>\n",
       "      <td>./data/miniature/00106918.jpg</td>\n",
       "      <td>./data/fullsize/00106918.jpg</td>\n",
       "    </tr>\n",
       "    <tr>\n",
       "      <td>4</td>\n",
       "      <td>142182</td>\n",
       "      <td>./data/miniature/00142182.jpg</td>\n",
       "      <td>./data/fullsize/00142182.jpg</td>\n",
       "    </tr>\n",
       "  </tbody>\n",
       "</table>\n",
       "</div>"
      ],
      "text/plain": [
       "       id                 miniature_path                 fullsize_path\n",
       "0  115964  ./data/miniature/00115964.jpg  ./data/fullsize/00115964.jpg\n",
       "1  136165  ./data/miniature/00136165.jpg  ./data/fullsize/00136165.jpg\n",
       "2  136603  ./data/miniature/00136603.jpg  ./data/fullsize/00136603.jpg\n",
       "3  106918  ./data/miniature/00106918.jpg  ./data/fullsize/00106918.jpg\n",
       "4  142182  ./data/miniature/00142182.jpg  ./data/fullsize/00142182.jpg"
      ]
     },
     "execution_count": 28,
     "metadata": {},
     "output_type": "execute_result"
    }
   ],
   "source": [
    "df_temp = pd.read_csv(\"db_files.tsv\", sep=\"\\t\", encoding=\"utf-8\")\n",
    "df_temp.head()"
   ]
  },
  {
   "cell_type": "code",
   "execution_count": 29,
   "metadata": {},
   "outputs": [],
   "source": [
    "for row in df_temp.iterrows():\n",
    "    id_photo = row[1]['id']\n",
    "    mini = row[1]['miniature_path']\n",
    "    full = row[1]['fullsize_path']\n",
    "\n",
    "    query = \"INSERT INTO PhotoFiles (idPhoto, miniatureFile, fullsizeFile) \" + \\\n",
    "    f\"VALUES ({id_photo}, '{mini}', '{full}');\"\n",
    "    try:\n",
    "        cur.execute(query)\n",
    "    except:\n",
    "        print(query)"
   ]
  },
  {
   "cell_type": "code",
   "execution_count": 30,
   "metadata": {},
   "outputs": [],
   "source": [
    "con.commit()"
   ]
  },
  {
   "cell_type": "markdown",
   "metadata": {},
   "source": [
    "### Рубрики"
   ]
  },
  {
   "cell_type": "markdown",
   "metadata": {},
   "source": [
    "#### Список рубрик"
   ]
  },
  {
   "cell_type": "code",
   "execution_count": 31,
   "metadata": {
    "scrolled": false
   },
   "outputs": [
    {
     "data": {
      "text/html": [
       "<div>\n",
       "<style scoped>\n",
       "    .dataframe tbody tr th:only-of-type {\n",
       "        vertical-align: middle;\n",
       "    }\n",
       "\n",
       "    .dataframe tbody tr th {\n",
       "        vertical-align: top;\n",
       "    }\n",
       "\n",
       "    .dataframe thead th {\n",
       "        text-align: right;\n",
       "    }\n",
       "</style>\n",
       "<table border=\"1\" class=\"dataframe\">\n",
       "  <thead>\n",
       "    <tr style=\"text-align: right;\">\n",
       "      <th></th>\n",
       "      <th>idRubric</th>\n",
       "      <th>rubricName</th>\n",
       "    </tr>\n",
       "  </thead>\n",
       "  <tbody>\n",
       "    <tr>\n",
       "      <td>0</td>\n",
       "      <td>0</td>\n",
       "      <td>Портреты (в т.ч. групповые)</td>\n",
       "    </tr>\n",
       "    <tr>\n",
       "      <td>1</td>\n",
       "      <td>1</td>\n",
       "      <td>1900-е годы (юбилей в 1908г – отдельная рубрика)</td>\n",
       "    </tr>\n",
       "    <tr>\n",
       "      <td>2</td>\n",
       "      <td>2</td>\n",
       "      <td>Похороны Л.Н.Толстого в Ясной Поляне</td>\n",
       "    </tr>\n",
       "    <tr>\n",
       "      <td>3</td>\n",
       "      <td>3</td>\n",
       "      <td>Могилы и похороны разных лиц</td>\n",
       "    </tr>\n",
       "    <tr>\n",
       "      <td>4</td>\n",
       "      <td>4</td>\n",
       "      <td>Писатели, поэты, литераторы</td>\n",
       "    </tr>\n",
       "  </tbody>\n",
       "</table>\n",
       "</div>"
      ],
      "text/plain": [
       "   idRubric                                        rubricName\n",
       "0         0                       Портреты (в т.ч. групповые)\n",
       "1         1  1900-е годы (юбилей в 1908г – отдельная рубрика)\n",
       "2         2              Похороны Л.Н.Толстого в Ясной Поляне\n",
       "3         3                      Могилы и похороны разных лиц\n",
       "4         4                       Писатели, поэты, литераторы"
      ]
     },
     "execution_count": 31,
     "metadata": {},
     "output_type": "execute_result"
    }
   ],
   "source": [
    "df_temp = pd.read_csv(\"db_rubrics.tsv\", sep=\"\\t\", encoding=\"utf-8\")\n",
    "df_temp.head()"
   ]
  },
  {
   "cell_type": "code",
   "execution_count": 32,
   "metadata": {},
   "outputs": [],
   "source": [
    "for row in df_temp.iterrows():\n",
    "    id_rubric = row[1]['idRubric']\n",
    "    rubric_name = row[1]['rubricName']\n",
    "    query = \"INSERT INTO Rubrics (idRubric, rubricName) \" + \\\n",
    "    f\"VALUES ({id_rubric}, '{rubric_name}');\"\n",
    "    try:\n",
    "        cur.execute(query)\n",
    "    except:\n",
    "        print(query)"
   ]
  },
  {
   "cell_type": "code",
   "execution_count": 33,
   "metadata": {},
   "outputs": [],
   "source": [
    "con.commit()"
   ]
  },
  {
   "cell_type": "markdown",
   "metadata": {},
   "source": [
    "#### Связь рубрик и фотографий"
   ]
  },
  {
   "cell_type": "code",
   "execution_count": 34,
   "metadata": {},
   "outputs": [
    {
     "data": {
      "text/html": [
       "<div>\n",
       "<style scoped>\n",
       "    .dataframe tbody tr th:only-of-type {\n",
       "        vertical-align: middle;\n",
       "    }\n",
       "\n",
       "    .dataframe tbody tr th {\n",
       "        vertical-align: top;\n",
       "    }\n",
       "\n",
       "    .dataframe thead th {\n",
       "        text-align: right;\n",
       "    }\n",
       "</style>\n",
       "<table border=\"1\" class=\"dataframe\">\n",
       "  <thead>\n",
       "    <tr style=\"text-align: right;\">\n",
       "      <th></th>\n",
       "      <th>idPhoto</th>\n",
       "      <th>idRubric</th>\n",
       "    </tr>\n",
       "  </thead>\n",
       "  <tbody>\n",
       "    <tr>\n",
       "      <td>0</td>\n",
       "      <td>115964</td>\n",
       "      <td>0</td>\n",
       "    </tr>\n",
       "    <tr>\n",
       "      <td>1</td>\n",
       "      <td>136165</td>\n",
       "      <td>1</td>\n",
       "    </tr>\n",
       "    <tr>\n",
       "      <td>2</td>\n",
       "      <td>136603</td>\n",
       "      <td>2</td>\n",
       "    </tr>\n",
       "    <tr>\n",
       "      <td>3</td>\n",
       "      <td>106918</td>\n",
       "      <td>3</td>\n",
       "    </tr>\n",
       "    <tr>\n",
       "      <td>4</td>\n",
       "      <td>142182</td>\n",
       "      <td>4</td>\n",
       "    </tr>\n",
       "  </tbody>\n",
       "</table>\n",
       "</div>"
      ],
      "text/plain": [
       "   idPhoto  idRubric\n",
       "0   115964         0\n",
       "1   136165         1\n",
       "2   136603         2\n",
       "3   106918         3\n",
       "4   142182         4"
      ]
     },
     "execution_count": 34,
     "metadata": {},
     "output_type": "execute_result"
    }
   ],
   "source": [
    "df_temp = pd.read_csv(\"db_rubrics_photos.tsv\", sep=\"\\t\", encoding=\"utf-8\")\n",
    "df_temp.head()"
   ]
  },
  {
   "cell_type": "code",
   "execution_count": 35,
   "metadata": {},
   "outputs": [],
   "source": [
    "for row in df_temp.iterrows():\n",
    "    id_photo = row[1]['idPhoto']\n",
    "    id_rubric = row[1]['idRubric']\n",
    "    query = \"INSERT INTO  PhotoRubrics(idPhoto, idRubric) \" + \\\n",
    "    f\"VALUES ({id_photo}, {id_rubric});\"\n",
    "    try:\n",
    "        cur.execute(query)\n",
    "    except:\n",
    "        print(query)"
   ]
  },
  {
   "cell_type": "code",
   "execution_count": 36,
   "metadata": {},
   "outputs": [],
   "source": [
    "con.commit()"
   ]
  },
  {
   "cell_type": "markdown",
   "metadata": {},
   "source": [
    "## Закрываем соединение"
   ]
  },
  {
   "cell_type": "code",
   "execution_count": 37,
   "metadata": {},
   "outputs": [],
   "source": [
    "con.close()"
   ]
  }
 ],
 "metadata": {
  "kernelspec": {
   "display_name": "Python 3",
   "language": "python",
   "name": "python3"
  },
  "language_info": {
   "codemirror_mode": {
    "name": "ipython",
    "version": 3
   },
   "file_extension": ".py",
   "mimetype": "text/x-python",
   "name": "python",
   "nbconvert_exporter": "python",
   "pygments_lexer": "ipython3",
   "version": "3.6.8"
  }
 },
 "nbformat": 4,
 "nbformat_minor": 2
}
